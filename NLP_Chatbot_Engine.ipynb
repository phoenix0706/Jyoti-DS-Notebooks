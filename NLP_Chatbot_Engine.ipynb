{
  "nbformat": 4,
  "nbformat_minor": 0,
  "metadata": {
    "colab": {
      "provenance": []
    },
    "kernelspec": {
      "name": "python3",
      "display_name": "Python 3"
    },
    "language_info": {
      "name": "python"
    }
  },
  "cells": [
    {
      "cell_type": "markdown",
      "source": [
        "# Text classification using NLP / Core engine of a chat bot."
      ],
      "metadata": {
        "id": "lEzooQFC-H2d"
      }
    },
    {
      "cell_type": "markdown",
      "source": [
        "Human language is astoundingly complex and diverse. When we write, we often misspell or abbreviate words, or omit punctuation. There is a lot of unstructured data around us. Natural language processing helps computers communicate with humans in their own language and scales other language-related tasks. For example, NLP makes it possible for computers to read text, interpret it, measure sentiment and determine which parts are important. Understanding this will enable you to build the core component of any conversational chatbot. This is the core engine of a conversational chatbot"
      ],
      "metadata": {
        "id": "2oRVlUrB-JVP"
      }
    },
    {
      "cell_type": "markdown",
      "source": [
        "Detecting patterns is a central part of Natural Language Processing. Words ending in -ed tend to be past tense verbs. Frequent use of will is indicative of news text (3). These observable patterns — word structure and word frequency — happen to correlate with particular aspects of meaning, such as tense and topic. But how did we know where to start looking, which aspects of form to associate with which aspects of meaning? In this series we shall learn to create the core engine of a chat bot. We will learn text classification using the techniques of natural language processing.\n",
        "\n"
      ],
      "metadata": {
        "id": "YQyrEOnI-Lbz"
      }
    },
    {
      "cell_type": "markdown",
      "source": [
        "# Import useful libraries"
      ],
      "metadata": {
        "id": "MSDLCMPH-N8o"
      }
    },
    {
      "cell_type": "code",
      "source": [
        "import nltk"
      ],
      "metadata": {
        "id": "ZtMLD3sW-IE7"
      },
      "execution_count": 7,
      "outputs": []
    },
    {
      "cell_type": "markdown",
      "source": [
        "NLTK is a leading platform for building Python programs to work with human language data. It provides easy-to-use interfaces to over 50 corpora and lexical resources such as WordNet, along with a suite of text processing libraries for classification, tokenization, stemming, tagging, parsing, and semantic reasoning, wrappers for industrial-strength NLP libraries, and an active discussion forum."
      ],
      "metadata": {
        "id": "STHowSYa-gVi"
      }
    },
    {
      "cell_type": "markdown",
      "source": [
        "NLTK has been called “a wonderful tool for teaching, and working in, computational linguistics using Python,” and “an amazing library to play with natural language.”\n",
        "\n",
        "Natural Language Processing with Python provides a practical introduction to programming for language processing. Written by the creators of NLTK, it guides the reader through the fundamentals of writing Python programs, working with corpora, categorizing text, analyzing linguistic structure, and more. The online version of the book has been been updated for Python 3 and NLTK 3. (The original Python 2 version is still available at https://www.nltk.org/book_1ed.)"
      ],
      "metadata": {
        "id": "KY9H83Md-lQN"
      }
    },
    {
      "cell_type": "code",
      "source": [
        "# nltk.download_gui() #for gui"
      ],
      "metadata": {
        "id": "w27AVBqi-QW-"
      },
      "execution_count": 8,
      "outputs": []
    },
    {
      "cell_type": "code",
      "source": [
        "nltk.download('popular')"
      ],
      "metadata": {
        "colab": {
          "base_uri": "https://localhost:8080/"
        },
        "id": "omakuZtO-q9i",
        "outputId": "288fcda6-c217-427c-c2d7-4e1960f12f96"
      },
      "execution_count": 9,
      "outputs": [
        {
          "output_type": "stream",
          "name": "stderr",
          "text": [
            "[nltk_data] Downloading collection 'popular'\n",
            "[nltk_data]    | \n",
            "[nltk_data]    | Downloading package cmudict to /root/nltk_data...\n",
            "[nltk_data]    |   Unzipping corpora/cmudict.zip.\n",
            "[nltk_data]    | Downloading package gazetteers to /root/nltk_data...\n",
            "[nltk_data]    |   Unzipping corpora/gazetteers.zip.\n",
            "[nltk_data]    | Downloading package genesis to /root/nltk_data...\n",
            "[nltk_data]    |   Unzipping corpora/genesis.zip.\n",
            "[nltk_data]    | Downloading package gutenberg to /root/nltk_data...\n",
            "[nltk_data]    |   Unzipping corpora/gutenberg.zip.\n",
            "[nltk_data]    | Downloading package inaugural to /root/nltk_data...\n",
            "[nltk_data]    |   Unzipping corpora/inaugural.zip.\n",
            "[nltk_data]    | Downloading package movie_reviews to\n",
            "[nltk_data]    |     /root/nltk_data...\n",
            "[nltk_data]    |   Unzipping corpora/movie_reviews.zip.\n",
            "[nltk_data]    | Downloading package names to /root/nltk_data...\n",
            "[nltk_data]    |   Unzipping corpora/names.zip.\n",
            "[nltk_data]    | Downloading package shakespeare to /root/nltk_data...\n",
            "[nltk_data]    |   Unzipping corpora/shakespeare.zip.\n",
            "[nltk_data]    | Downloading package stopwords to /root/nltk_data...\n",
            "[nltk_data]    |   Unzipping corpora/stopwords.zip.\n",
            "[nltk_data]    | Downloading package treebank to /root/nltk_data...\n",
            "[nltk_data]    |   Unzipping corpora/treebank.zip.\n",
            "[nltk_data]    | Downloading package twitter_samples to\n",
            "[nltk_data]    |     /root/nltk_data...\n",
            "[nltk_data]    |   Unzipping corpora/twitter_samples.zip.\n",
            "[nltk_data]    | Downloading package omw to /root/nltk_data...\n",
            "[nltk_data]    | Downloading package omw-1.4 to /root/nltk_data...\n",
            "[nltk_data]    | Downloading package wordnet to /root/nltk_data...\n",
            "[nltk_data]    | Downloading package wordnet2021 to /root/nltk_data...\n",
            "[nltk_data]    | Downloading package wordnet31 to /root/nltk_data...\n",
            "[nltk_data]    | Downloading package wordnet_ic to /root/nltk_data...\n",
            "[nltk_data]    |   Unzipping corpora/wordnet_ic.zip.\n",
            "[nltk_data]    | Downloading package words to /root/nltk_data...\n",
            "[nltk_data]    |   Unzipping corpora/words.zip.\n",
            "[nltk_data]    | Downloading package maxent_ne_chunker to\n",
            "[nltk_data]    |     /root/nltk_data...\n",
            "[nltk_data]    |   Unzipping chunkers/maxent_ne_chunker.zip.\n",
            "[nltk_data]    | Downloading package punkt to /root/nltk_data...\n",
            "[nltk_data]    |   Unzipping tokenizers/punkt.zip.\n",
            "[nltk_data]    | Downloading package snowball_data to\n",
            "[nltk_data]    |     /root/nltk_data...\n",
            "[nltk_data]    | Downloading package averaged_perceptron_tagger to\n",
            "[nltk_data]    |     /root/nltk_data...\n",
            "[nltk_data]    |   Unzipping taggers/averaged_perceptron_tagger.zip.\n",
            "[nltk_data]    | \n",
            "[nltk_data]  Done downloading collection popular\n"
          ]
        },
        {
          "output_type": "execute_result",
          "data": {
            "text/plain": [
              "True"
            ]
          },
          "metadata": {},
          "execution_count": 9
        }
      ]
    },
    {
      "cell_type": "code",
      "source": [
        " nltk.download('averaged_perceptron_tagger_eng')"
      ],
      "metadata": {
        "colab": {
          "base_uri": "https://localhost:8080/"
        },
        "id": "bgYiaQYFMNAl",
        "outputId": "22e7bb53-6bc9-4794-886b-0e6fd20ec855"
      },
      "execution_count": 10,
      "outputs": [
        {
          "output_type": "stream",
          "name": "stderr",
          "text": [
            "[nltk_data] Downloading package averaged_perceptron_tagger_eng to\n",
            "[nltk_data]     /root/nltk_data...\n",
            "[nltk_data]   Unzipping taggers/averaged_perceptron_tagger_eng.zip.\n"
          ]
        },
        {
          "output_type": "execute_result",
          "data": {
            "text/plain": [
              "True"
            ]
          },
          "metadata": {},
          "execution_count": 10
        }
      ]
    },
    {
      "cell_type": "code",
      "source": [
        "nltk.download('stopwords')"
      ],
      "metadata": {
        "colab": {
          "base_uri": "https://localhost:8080/"
        },
        "id": "ALNSvT3K_CFO",
        "outputId": "0555f538-8bff-4bc4-f1ac-f4f88917a8c4"
      },
      "execution_count": 11,
      "outputs": [
        {
          "output_type": "stream",
          "name": "stderr",
          "text": [
            "[nltk_data] Downloading package stopwords to /root/nltk_data...\n",
            "[nltk_data]   Package stopwords is already up-to-date!\n"
          ]
        },
        {
          "output_type": "execute_result",
          "data": {
            "text/plain": [
              "True"
            ]
          },
          "metadata": {},
          "execution_count": 11
        }
      ]
    },
    {
      "cell_type": "code",
      "source": [
        "from nltk.corpus import stopwords"
      ],
      "metadata": {
        "id": "k1DwmJx--_-h"
      },
      "execution_count": 12,
      "outputs": []
    },
    {
      "cell_type": "markdown",
      "source": [
        "### Import Libraries"
      ],
      "metadata": {
        "id": "965cKMAzF1J1"
      }
    },
    {
      "cell_type": "code",
      "source": [
        "import re\n",
        "import os\n",
        "import csv\n",
        "from nltk.stem.snowball import SnowballStemmer\n",
        "import random\n",
        "from nltk.classify import SklearnClassifier\n",
        "from nltk.tokenize import RegexpTokenizer\n",
        "from nltk.corpus import stopwords\n",
        "from nltk.stem.wordnet import WordNetLemmatizer\n",
        "import numpy as np\n",
        "import pandas as pd"
      ],
      "metadata": {
        "id": "nne5RYlU_BWW"
      },
      "execution_count": 13,
      "outputs": []
    },
    {
      "cell_type": "code",
      "source": [
        "## Get multiple outputs in the same cell\n",
        "from IPython.core.interactiveshell import InteractiveShell\n",
        "InteractiveShell.ast_node_interactivity = \"all\"\n",
        "\n",
        "## Ignore all warnings\n",
        "import warnings\n",
        "warnings.filterwarnings('ignore')\n",
        "warnings.filterwarnings(action='ignore', category=DeprecationWarning)"
      ],
      "metadata": {
        "id": "Z8s4jnosF2i0"
      },
      "execution_count": 14,
      "outputs": []
    },
    {
      "cell_type": "code",
      "source": [
        "## Display all rows and columns of a dataframe instead of a truncated version\n",
        "from IPython.display import display\n",
        "pd.set_option('display.max_columns', None)\n",
        "pd.set_option('display.max_rows', None)"
      ],
      "metadata": {
        "id": "5Dwdta7tF3o5"
      },
      "execution_count": 15,
      "outputs": []
    },
    {
      "cell_type": "markdown",
      "source": [
        "### Preprocess"
      ],
      "metadata": {
        "id": "lgjZnxglF7Jl"
      }
    },
    {
      "cell_type": "code",
      "source": [
        "sentence = \"The Big brown fox jumped over a lazy dog.\"\n",
        "sentence2 = \"This is particularly important in today's world where we are swamped with unstructured natural language data on the variety of social media platforms people engage in now-a-days (note -  now-a-days in the decade of 2010-2020)\""
      ],
      "metadata": {
        "id": "R1nc3_6oF6Dk"
      },
      "execution_count": 16,
      "outputs": []
    },
    {
      "cell_type": "code",
      "source": [
        "#convert sentence to lower case\n",
        "'This' == 'this'\n",
        "print('AbcdEFgH'.lower())\n",
        "sentence.lower()\n",
        "sentence2.lower()"
      ],
      "metadata": {
        "colab": {
          "base_uri": "https://localhost:8080/",
          "height": 124
        },
        "id": "yMD2Hp0sF9Wh",
        "outputId": "5a00c8ad-5824-47c0-a970-f1995bd4c217"
      },
      "execution_count": 17,
      "outputs": [
        {
          "output_type": "execute_result",
          "data": {
            "text/plain": [
              "False"
            ]
          },
          "metadata": {},
          "execution_count": 17
        },
        {
          "output_type": "stream",
          "name": "stdout",
          "text": [
            "abcdefgh\n"
          ]
        },
        {
          "output_type": "execute_result",
          "data": {
            "text/plain": [
              "'the big brown fox jumped over a lazy dog.'"
            ],
            "application/vnd.google.colaboratory.intrinsic+json": {
              "type": "string"
            }
          },
          "metadata": {},
          "execution_count": 17
        },
        {
          "output_type": "execute_result",
          "data": {
            "text/plain": [
              "\"this is particularly important in today's world where we are swamped with unstructured natural language data on the variety of social media platforms people engage in now-a-days (note -  now-a-days in the decade of 2010-2020)\""
            ],
            "application/vnd.google.colaboratory.intrinsic+json": {
              "type": "string"
            }
          },
          "metadata": {},
          "execution_count": 17
        }
      ]
    },
    {
      "cell_type": "markdown",
      "source": [
        "### Tokenize- extract individual words"
      ],
      "metadata": {
        "id": "mjdiGUrSGDRU"
      }
    },
    {
      "cell_type": "code",
      "source": [
        "tokenizer = RegexpTokenizer(r'\\w+')\n",
        "tokens = tokenizer.tokenize(sentence)\n",
        "tokens\n",
        "tokens2 = tokenizer.tokenize(sentence2)\n",
        "tokens2"
      ],
      "metadata": {
        "colab": {
          "base_uri": "https://localhost:8080/"
        },
        "id": "2nM8VbnsGBKV",
        "outputId": "20b7b424-e724-4098-8f2a-b5e42582e6c8"
      },
      "execution_count": 18,
      "outputs": [
        {
          "output_type": "execute_result",
          "data": {
            "text/plain": [
              "['The', 'Big', 'brown', 'fox', 'jumped', 'over', 'a', 'lazy', 'dog']"
            ]
          },
          "metadata": {},
          "execution_count": 18
        },
        {
          "output_type": "execute_result",
          "data": {
            "text/plain": [
              "['This',\n",
              " 'is',\n",
              " 'particularly',\n",
              " 'important',\n",
              " 'in',\n",
              " 'today',\n",
              " 's',\n",
              " 'world',\n",
              " 'where',\n",
              " 'we',\n",
              " 'are',\n",
              " 'swamped',\n",
              " 'with',\n",
              " 'unstructured',\n",
              " 'natural',\n",
              " 'language',\n",
              " 'data',\n",
              " 'on',\n",
              " 'the',\n",
              " 'variety',\n",
              " 'of',\n",
              " 'social',\n",
              " 'media',\n",
              " 'platforms',\n",
              " 'people',\n",
              " 'engage',\n",
              " 'in',\n",
              " 'now',\n",
              " 'a',\n",
              " 'days',\n",
              " 'note',\n",
              " 'now',\n",
              " 'a',\n",
              " 'days',\n",
              " 'in',\n",
              " 'the',\n",
              " 'decade',\n",
              " 'of',\n",
              " '2010',\n",
              " '2020']"
            ]
          },
          "metadata": {},
          "execution_count": 18
        }
      ]
    },
    {
      "cell_type": "markdown",
      "source": [
        "### Stopwords : Filter words to remove non-useful words"
      ],
      "metadata": {
        "id": "0aOzjGwOGLR8"
      }
    },
    {
      "cell_type": "code",
      "source": [
        "filtered_words = [w for w in tokens if not w in stopwords.words('english')]\n",
        "filtered_words"
      ],
      "metadata": {
        "colab": {
          "base_uri": "https://localhost:8080/"
        },
        "id": "7JvbOR9qGHCm",
        "outputId": "329ec0ee-1bf1-4d3c-dfcf-9e22a6978a47"
      },
      "execution_count": 19,
      "outputs": [
        {
          "output_type": "execute_result",
          "data": {
            "text/plain": [
              "['The', 'Big', 'brown', 'fox', 'jumped', 'lazy', 'dog']"
            ]
          },
          "metadata": {},
          "execution_count": 19
        }
      ]
    },
    {
      "cell_type": "code",
      "source": [
        "filtered_words = [w for w in tokens2 if not w in stopwords.words('english')]\n",
        "filtered_words"
      ],
      "metadata": {
        "colab": {
          "base_uri": "https://localhost:8080/"
        },
        "id": "SsUNwQilGN7r",
        "outputId": "d2b67212-285a-42d4-daa1-c11afa1d6f38"
      },
      "execution_count": 20,
      "outputs": [
        {
          "output_type": "execute_result",
          "data": {
            "text/plain": [
              "['This',\n",
              " 'particularly',\n",
              " 'important',\n",
              " 'today',\n",
              " 'world',\n",
              " 'swamped',\n",
              " 'unstructured',\n",
              " 'natural',\n",
              " 'language',\n",
              " 'data',\n",
              " 'variety',\n",
              " 'social',\n",
              " 'media',\n",
              " 'platforms',\n",
              " 'people',\n",
              " 'engage',\n",
              " 'days',\n",
              " 'note',\n",
              " 'days',\n",
              " 'decade',\n",
              " '2010',\n",
              " '2020']"
            ]
          },
          "metadata": {},
          "execution_count": 20
        }
      ]
    },
    {
      "cell_type": "code",
      "source": [
        "def preprocess(sentence):\n",
        "    sentence = sentence.lower()\n",
        "    tokenizer = RegexpTokenizer(r'\\w+')\n",
        "    tokens = tokenizer.tokenize(sentence)\n",
        "    filtered_words = [w for w in tokens if not w in stopwords.words('english')]\n",
        "    return filtered_words"
      ],
      "metadata": {
        "id": "ufqztEheGPxb"
      },
      "execution_count": 21,
      "outputs": []
    },
    {
      "cell_type": "code",
      "source": [
        "preprocessed_sentence = preprocess(sentence)\n",
        "print(preprocessed_sentence)"
      ],
      "metadata": {
        "colab": {
          "base_uri": "https://localhost:8080/"
        },
        "id": "w265gcurLupU",
        "outputId": "a3e448ea-c749-49de-9f41-fe1b948a0a37"
      },
      "execution_count": 22,
      "outputs": [
        {
          "output_type": "stream",
          "name": "stdout",
          "text": [
            "['big', 'brown', 'fox', 'jumped', 'lazy', 'dog']\n"
          ]
        }
      ]
    },
    {
      "cell_type": "code",
      "source": [
        "preprocess(sentence2)"
      ],
      "metadata": {
        "colab": {
          "base_uri": "https://localhost:8080/"
        },
        "id": "SjmZjRLpLxe5",
        "outputId": "de1735fe-29f0-41b4-f234-819893174e32"
      },
      "execution_count": 23,
      "outputs": [
        {
          "output_type": "execute_result",
          "data": {
            "text/plain": [
              "['particularly',\n",
              " 'important',\n",
              " 'today',\n",
              " 'world',\n",
              " 'swamped',\n",
              " 'unstructured',\n",
              " 'natural',\n",
              " 'language',\n",
              " 'data',\n",
              " 'variety',\n",
              " 'social',\n",
              " 'media',\n",
              " 'platforms',\n",
              " 'people',\n",
              " 'engage',\n",
              " 'days',\n",
              " 'note',\n",
              " 'days',\n",
              " 'decade',\n",
              " '2010',\n",
              " '2020']"
            ]
          },
          "metadata": {},
          "execution_count": 23
        }
      ]
    },
    {
      "cell_type": "markdown",
      "source": [
        "### Tagging"
      ],
      "metadata": {
        "id": "nKt0eTwBMFyM"
      }
    },
    {
      "cell_type": "code",
      "source": [
        "tags = nltk.pos_tag(preprocessed_sentence)\n",
        "print(tags)"
      ],
      "metadata": {
        "colab": {
          "base_uri": "https://localhost:8080/"
        },
        "id": "KW46rO5uLyyP",
        "outputId": "bfd31a37-a1be-4688-ef41-e8b5ed520224"
      },
      "execution_count": 24,
      "outputs": [
        {
          "output_type": "stream",
          "name": "stdout",
          "text": [
            "[('big', 'JJ'), ('brown', 'NN'), ('fox', 'NN'), ('jumped', 'VBD'), ('lazy', 'JJ'), ('dog', 'NN')]\n"
          ]
        }
      ]
    },
    {
      "cell_type": "code",
      "source": [
        "tags = nltk.pos_tag(preprocess(sentence2))\n",
        "print(tags)"
      ],
      "metadata": {
        "colab": {
          "base_uri": "https://localhost:8080/"
        },
        "id": "szzVAI5ZMI9d",
        "outputId": "4f0da2be-c3c3-47f2-fc5b-94b2e9c3b1e4"
      },
      "execution_count": 25,
      "outputs": [
        {
          "output_type": "stream",
          "name": "stdout",
          "text": [
            "[('particularly', 'RB'), ('important', 'JJ'), ('today', 'NN'), ('world', 'NN'), ('swamped', 'VBD'), ('unstructured', 'JJ'), ('natural', 'JJ'), ('language', 'NN'), ('data', 'NNS'), ('variety', 'NN'), ('social', 'JJ'), ('media', 'NNS'), ('platforms', 'NNS'), ('people', 'NNS'), ('engage', 'VBP'), ('days', 'NNS'), ('note', 'VBP'), ('days', 'NNS'), ('decade', 'NN'), ('2010', 'CD'), ('2020', 'CD')]\n"
          ]
        }
      ]
    },
    {
      "cell_type": "markdown",
      "source": [
        "### Extracting only Nouns and Verb nouns"
      ],
      "metadata": {
        "id": "v4AU-1WUMXgt"
      }
    },
    {
      "cell_type": "markdown",
      "source": [
        "POS tag list:\n",
        "\n",
        "```\n",
        "CC coordinating conjunction\n",
        "CD cardinal digit\n",
        "DT determiner\n",
        "EX existential there (like: \"there is\" ... think of it like \"there exists\")\n",
        "FW foreign word\n",
        "IN preposition/subordinating conjunction\n",
        "JJ adjective 'big'\n",
        "JJR adjective, comparative 'bigger'\n",
        "JJS adjective, superlative 'biggest'\n",
        "LS list marker 1)\n",
        "MD modal could, will\n",
        "NN noun, singular 'desk'\n",
        "NNS noun plural 'desks'\n",
        "NNP proper noun, singular 'Harrison'\n",
        "NNPS proper noun, plural 'Americans'\n",
        "PDT predeterminer 'all the kids'\n",
        "POS possessive ending parent's\n",
        "PRP personal pronoun I, he, she\n",
        "PRP$ possessive pronoun my, his, hers\n",
        "RB adverb very, silently,\n",
        "RBR adverb, comparative better\n",
        "RBS adverb, superlative best\n",
        "RP particle give up\n",
        "TO to go 'to' the store.\n",
        "UH interjection errrrrrrrm\n",
        "VB verb, base form take\n",
        "VBD verb, past tense took\n",
        "VBG verb, gerund/present participle taking\n",
        "VBN verb, past participle taken\n",
        "VBP verb, sing. present, non-3d take\n",
        "VBZ verb, 3rd person sing. present takes\n",
        "WDT wh-determiner which\n",
        "WP wh-pronoun who, what\n",
        "WP$ possessive wh-pronoun whose\n",
        "WRB wh-abverb where, when\n",
        "```"
      ],
      "metadata": {
        "id": "nNN9K-MSMcIR"
      }
    },
    {
      "cell_type": "code",
      "source": [
        "def extract_tagged(sentences):\n",
        "    features = []\n",
        "    for tagged_word in sentences:\n",
        "        word, tag = tagged_word\n",
        "        if tag=='NN' or tag == 'VBN' or tag == 'NNS' or tag == 'VBP' or tag == 'RB' or tag == 'VBZ' or tag == 'VBG' or tag =='PRP' or tag == 'JJ':\n",
        "            features.append(word)\n",
        "    return features"
      ],
      "metadata": {
        "id": "chcli1-oMjAj"
      },
      "execution_count": 26,
      "outputs": []
    },
    {
      "cell_type": "code",
      "source": [
        "extract_tagged(tags)"
      ],
      "metadata": {
        "colab": {
          "base_uri": "https://localhost:8080/"
        },
        "id": "U-DknrRlMRKC",
        "outputId": "ef4388d3-9ce0-4412-da2a-b1dfad0b0038"
      },
      "execution_count": 27,
      "outputs": [
        {
          "output_type": "execute_result",
          "data": {
            "text/plain": [
              "['particularly',\n",
              " 'important',\n",
              " 'today',\n",
              " 'world',\n",
              " 'unstructured',\n",
              " 'natural',\n",
              " 'language',\n",
              " 'data',\n",
              " 'variety',\n",
              " 'social',\n",
              " 'media',\n",
              " 'platforms',\n",
              " 'people',\n",
              " 'engage',\n",
              " 'days',\n",
              " 'note',\n",
              " 'days',\n",
              " 'decade']"
            ]
          },
          "metadata": {},
          "execution_count": 27
        }
      ]
    },
    {
      "cell_type": "markdown",
      "source": [
        "## Lemmatize words"
      ],
      "metadata": {
        "id": "F6ETk886MqJa"
      }
    },
    {
      "cell_type": "code",
      "source": [
        "lmtzr = WordNetLemmatizer()\n",
        "print(lmtzr.lemmatize('cacti'))\n",
        "print(lmtzr.lemmatize('willing'))\n",
        "print(lmtzr.lemmatize('feet'))\n",
        "print(lmtzr.lemmatize('stemmed'))\n",
        "\n",
        "print(lmtzr.lemmatize('cactus'))"
      ],
      "metadata": {
        "colab": {
          "base_uri": "https://localhost:8080/"
        },
        "id": "qGU4Fhb-MkqZ",
        "outputId": "bd35e8ec-2e1d-4e2c-ace6-cf8795edce24"
      },
      "execution_count": 28,
      "outputs": [
        {
          "output_type": "stream",
          "name": "stdout",
          "text": [
            "cactus\n",
            "willing\n",
            "foot\n",
            "stemmed\n",
            "cactus\n"
          ]
        }
      ]
    },
    {
      "cell_type": "markdown",
      "source": [
        "## Stem words"
      ],
      "metadata": {
        "id": "ozAx7x1UMvip"
      }
    },
    {
      "cell_type": "code",
      "source": [
        "words_for_stemming = ['stem', 'stemming', 'stemmed', 'stemmer', 'stems','feet','willing']"
      ],
      "metadata": {
        "id": "zmMHG_LCMrYW"
      },
      "execution_count": 29,
      "outputs": []
    },
    {
      "cell_type": "code",
      "source": [
        "stemmer = SnowballStemmer(\"english\")\n",
        "[stemmer.stem(x) for x in words_for_stemming]"
      ],
      "metadata": {
        "colab": {
          "base_uri": "https://localhost:8080/"
        },
        "id": "4eo22CCbMw03",
        "outputId": "82e4c003-bc24-4813-d8aa-9340274d3fb3"
      },
      "execution_count": 30,
      "outputs": [
        {
          "output_type": "execute_result",
          "data": {
            "text/plain": [
              "['stem', 'stem', 'stem', 'stemmer', 'stem', 'feet', 'will']"
            ]
          },
          "metadata": {},
          "execution_count": 30
        }
      ]
    },
    {
      "cell_type": "markdown",
      "source": [
        "### Putting it all together"
      ],
      "metadata": {
        "id": "A-HhV4LpM0p0"
      }
    },
    {
      "cell_type": "code",
      "source": [
        "def extract_feature(text):\n",
        "    words = preprocess(text)\n",
        "#     print('words: ',words)\n",
        "    tags = nltk.pos_tag(words)\n",
        "#     print('tags: ',tags)\n",
        "    extracted_features = extract_tagged(tags)\n",
        "#     print('Extracted features: ',extracted_features)\n",
        "    stemmed_words = [stemmer.stem(x) for x in extracted_features]\n",
        "#     print(stemmed_words)\n",
        "\n",
        "    result = [lmtzr.lemmatize(x) for x in stemmed_words]\n",
        "\n",
        "    return result"
      ],
      "metadata": {
        "id": "DGjkTgfbMyEY"
      },
      "execution_count": 31,
      "outputs": []
    },
    {
      "cell_type": "code",
      "source": [
        "sentence"
      ],
      "metadata": {
        "colab": {
          "base_uri": "https://localhost:8080/",
          "height": 36
        },
        "id": "wS-ZyMQdM2gE",
        "outputId": "49670dbf-43a3-4a24-cb17-89335b185607"
      },
      "execution_count": 32,
      "outputs": [
        {
          "output_type": "execute_result",
          "data": {
            "text/plain": [
              "'The Big brown fox jumped over a lazy dog.'"
            ],
            "application/vnd.google.colaboratory.intrinsic+json": {
              "type": "string"
            }
          },
          "metadata": {},
          "execution_count": 32
        }
      ]
    },
    {
      "cell_type": "code",
      "source": [
        "words = extract_feature(sentence)\n",
        "print(words)"
      ],
      "metadata": {
        "colab": {
          "base_uri": "https://localhost:8080/"
        },
        "id": "O8soH_1QM4ap",
        "outputId": "cac3a5f3-ec35-43b1-f5fa-d49aea438d3e"
      },
      "execution_count": 33,
      "outputs": [
        {
          "output_type": "stream",
          "name": "stdout",
          "text": [
            "['big', 'brown', 'fox', 'lazi', 'dog']\n"
          ]
        }
      ]
    },
    {
      "cell_type": "code",
      "source": [
        "words = extract_feature(sentence2)\n",
        "print(words)"
      ],
      "metadata": {
        "colab": {
          "base_uri": "https://localhost:8080/"
        },
        "id": "jeRf28WBM5hY",
        "outputId": "086675d5-bdf3-4ca1-bd4e-383ca09a45d8"
      },
      "execution_count": 34,
      "outputs": [
        {
          "output_type": "stream",
          "name": "stdout",
          "text": [
            "['particular', 'import', 'today', 'world', 'unstructur', 'natur', 'languag', 'data', 'varieti', 'social', 'medium', 'platform', 'peopl', 'engag', 'day', 'note', 'day', 'decad']\n"
          ]
        }
      ]
    },
    {
      "cell_type": "code",
      "source": [
        "extract_feature(\"He hurt his right foot while he was wearing white shoes on his feet\")"
      ],
      "metadata": {
        "colab": {
          "base_uri": "https://localhost:8080/"
        },
        "id": "H27j7KL5M7Ta",
        "outputId": "b0b8eefd-3e11-4d6d-93fc-9cabdaab84ed"
      },
      "execution_count": 35,
      "outputs": [
        {
          "output_type": "execute_result",
          "data": {
            "text/plain": [
              "['hurt', 'right', 'foot', 'wear', 'white', 'shoe', 'foot']"
            ]
          },
          "metadata": {},
          "execution_count": 35
        }
      ]
    },
    {
      "cell_type": "markdown",
      "source": [
        "### Implementing bag of words"
      ],
      "metadata": {
        "id": "kqCg3RTSM_hT"
      }
    },
    {
      "cell_type": "markdown",
      "source": [
        "In simple terms, it’s a collection of words to represent a sentence, disregarding the order in which they appear."
      ],
      "metadata": {
        "id": "94l_TZFeNBf2"
      }
    },
    {
      "cell_type": "code",
      "source": [
        "def word_feats(words):\n",
        "    return dict([(word, True) for word in words])"
      ],
      "metadata": {
        "id": "vDzN5xaqNAL_"
      },
      "execution_count": 36,
      "outputs": []
    },
    {
      "cell_type": "code",
      "source": [
        "word_feats(words)"
      ],
      "metadata": {
        "colab": {
          "base_uri": "https://localhost:8080/"
        },
        "id": "VzvjMg9wNECJ",
        "outputId": "b49a8045-ecf6-4a91-b4f0-56befb5a4f76"
      },
      "execution_count": 37,
      "outputs": [
        {
          "output_type": "execute_result",
          "data": {
            "text/plain": [
              "{'particular': True,\n",
              " 'import': True,\n",
              " 'today': True,\n",
              " 'world': True,\n",
              " 'unstructur': True,\n",
              " 'natur': True,\n",
              " 'languag': True,\n",
              " 'data': True,\n",
              " 'varieti': True,\n",
              " 'social': True,\n",
              " 'medium': True,\n",
              " 'platform': True,\n",
              " 'peopl': True,\n",
              " 'engag': True,\n",
              " 'day': True,\n",
              " 'note': True,\n",
              " 'decad': True}"
            ]
          },
          "metadata": {},
          "execution_count": 37
        }
      ]
    },
    {
      "cell_type": "markdown",
      "source": [
        "### Parsing the whole document"
      ],
      "metadata": {
        "id": "q6P9NDSSNHY6"
      }
    },
    {
      "cell_type": "markdown",
      "source": [
        "Data->\n",
        "``` Input_text | category | output which we want model should give```"
      ],
      "metadata": {
        "id": "lKYJDUTb2K3h"
      }
    },
    {
      "cell_type": "code",
      "source": [
        "def extract_feature_from_doc(data):\n",
        "    result = []\n",
        "    corpus = []\n",
        "    # The responses of the chat bot\n",
        "    answers = {}\n",
        "    for (text,category,answer) in data:\n",
        "\n",
        "        features = extract_feature(text) # extracted features (input) and we'll create corpus\n",
        "\n",
        "        corpus.append(features)\n",
        "        result.append((word_feats(features), category))\n",
        "        answers[category] = answer # we have answers for each category , we created a dictionary\n",
        "\n",
        "    return (result, sum(corpus,[]), answers)"
      ],
      "metadata": {
        "id": "zirnCoveNFBd"
      },
      "execution_count": 38,
      "outputs": []
    },
    {
      "cell_type": "code",
      "source": [
        "extract_feature_from_doc([['this is the input text from the user','category','answer to give']])"
      ],
      "metadata": {
        "colab": {
          "base_uri": "https://localhost:8080/"
        },
        "id": "mX_wAPdyNJH3",
        "outputId": "eaceb308-427b-49e7-e558-fef82bdab459"
      },
      "execution_count": 39,
      "outputs": [
        {
          "output_type": "execute_result",
          "data": {
            "text/plain": [
              "([({'input': True, 'user': True}, 'category')],\n",
              " ['input', 'user'],\n",
              " {'category': 'answer to give'})"
            ]
          },
          "metadata": {},
          "execution_count": 39
        }
      ]
    },
    {
      "cell_type": "code",
      "source": [
        "def get_content(filename):\n",
        "    doc = os.path.join(filename)\n",
        "    with open(doc, 'r') as content_file:\n",
        "        lines = csv.reader(content_file,delimiter='|')\n",
        "        data = [x for x in lines if len(x) == 3]\n",
        "        return data"
      ],
      "metadata": {
        "id": "s5foLe4KNK3U"
      },
      "execution_count": 40,
      "outputs": []
    },
    {
      "cell_type": "code",
      "source": [
        "filename = 'leaves.txt'\n",
        "data = get_content(filename)"
      ],
      "metadata": {
        "id": "cpMzQ_xSNM9X"
      },
      "execution_count": 41,
      "outputs": []
    },
    {
      "cell_type": "code",
      "source": [
        "data"
      ],
      "metadata": {
        "colab": {
          "base_uri": "https://localhost:8080/"
        },
        "id": "GCS3GpjENSKV",
        "outputId": "645d49ab-4c39-4abd-9125-851769a3dd1e"
      },
      "execution_count": 42,
      "outputs": [
        {
          "output_type": "execute_result",
          "data": {
            "text/plain": [
              "[['Hello',\n",
              "  'Greetings',\n",
              "  'Hello. I am Dexter. I will serve your leave enquiries.'],\n",
              " ['hi hello',\n",
              "  'Greetings',\n",
              "  'Hello. I am Dexter. I will serve your leave enquiries.'],\n",
              " ['hi ',\n",
              "  'Greetings',\n",
              "  'Hello. I am Dexter. I will serve your leave enquiries.'],\n",
              " ['hi', 'Greetings', 'Hello. I am Dexter. I will serve your leave enquiries.'],\n",
              " ['hi', 'Greetings', 'Hello. I am Dexter. I will serve your leave enquiries.'],\n",
              " ['hey',\n",
              "  'Greetings',\n",
              "  'Hello. I am Dexter. I will serve your leave enquiries.'],\n",
              " ['hello, hi',\n",
              "  'Greetings',\n",
              "  'Hello. I am Dexter. I will serve your leave enquiries.'],\n",
              " ['hey',\n",
              "  'Greetings',\n",
              "  'Hello. I am Dexter. I will serve your leave enquiries.'],\n",
              " ['hey, hi',\n",
              "  'Greetings',\n",
              "  'Hello. I am Dexter. I will serve your leave enquiries.'],\n",
              " ['hey, hello',\n",
              "  'Greetings',\n",
              "  'Hello. I am Dexter. I will serve your leave enquiries.'],\n",
              " ['Good morning',\n",
              "  'Morning',\n",
              "  'Good Morning. I am Dexter. I will serve your leave enquiries.'],\n",
              " ['Good afternoon',\n",
              "  'Afternoon',\n",
              "  'Good afternoon. I am Dexter. I will serve your leave enquiries.'],\n",
              " ['Good evening',\n",
              "  'Evening',\n",
              "  'Good evening. I am Dexter. I will serve your leave enquiries.'],\n",
              " ['Good night', 'Goodbye', 'Good night. Take care.'],\n",
              " ['How are you today?', 'Opening', \"I'm fine! Thank you. How can I help you?\"],\n",
              " ['want help', 'Help', 'How can I help you?'],\n",
              " ['need help', 'Help', 'How can I help you?'],\n",
              " ['help me', 'Help', 'How can I help you?'],\n",
              " [\"I don't want your help.\",\n",
              "  'No-Help',\n",
              "  'Ok sir/madam. No problem. Have a nice day.'],\n",
              " [\"I don't want your assistance\",\n",
              "  'No-Help',\n",
              "  'Ok sir/madam. No problem. Have a nice day.'],\n",
              " ['No help required', 'No-Help', 'Ok sir/madam. No problem. Have a nice day.'],\n",
              " ['It has been great talking to you.',\n",
              "  'Closing',\n",
              "  \"It's glad to know that I have been helpful. Have a good day!\"],\n",
              " ['great',\n",
              "  'Closing',\n",
              "  \"It's glad to know that I have been helpful. Have a good day!\"],\n",
              " ['thank you for your help',\n",
              "  'Closing',\n",
              "  \"It's glad to know that I have been helpful. Have a good day!\"],\n",
              " ['thank you',\n",
              "  'Closing',\n",
              "  \"It's glad to know that I have been helpful. Have a good day!\"],\n",
              " ['thank you very much',\n",
              "  'Closing',\n",
              "  \"It's glad to know that I have been helpful. Have a good day!\"],\n",
              " ['thanks.',\n",
              "  'Closing',\n",
              "  \"You're welcome!It's glad to know that I have been helpful. Have a good day!\"],\n",
              " ['thanks very much',\n",
              "  'Closing',\n",
              "  \"It's glad to know that I have been helpful. Have a good day!\"],\n",
              " ['How many types of leaves are there?',\n",
              "  'Leaves-Type',\n",
              "  'Currently I know about two: annual and optional leaves.'],\n",
              " ['types of leaves?',\n",
              "  'Leaves-Type',\n",
              "  'Currently I know about two: annual and optional leaves.'],\n",
              " ['type leaves?',\n",
              "  'Leaves-Type',\n",
              "  'Currently I know about two: annual and optional leaves.'],\n",
              " ['leave type?',\n",
              "  'Leaves-Type',\n",
              "  'Currently I know about two: annual and optional leaves.'],\n",
              " ['leaves type?',\n",
              "  'Leaves-Type',\n",
              "  'Currently I know about two: annual and optional leaves.'],\n",
              " ['How many leaves have I taken?',\n",
              "  'Default-Utilized-Annual-Leaves',\n",
              "  'You have used 12 annual leaves.'],\n",
              " ['How many leaves I have already taken?',\n",
              "  'Default-Utilized-Annual-Leaves',\n",
              "  'You have used 12 annual leaves.'],\n",
              " ['how many annual leaves I took?',\n",
              "  'Utilized-Annual-Leaves',\n",
              "  'You have taken 12 annual leaves.'],\n",
              " ['How many annual leaves have I taken?',\n",
              "  'Utilized-Annual-Leaves',\n",
              "  'You have taken 12 annual leaves.'],\n",
              " ['How many annual leaves I have already taken?',\n",
              "  'Utilized-Annual-Leaves',\n",
              "  'You have taken 12 annual leaves.'],\n",
              " ['Tell me the annual leaves count I have taken?',\n",
              "  'Utilized-Annual-Leaves',\n",
              "  'You have taken 12 annual leaves.'],\n",
              " ['How many annual leaves have I taken?',\n",
              "  'Utilized-Annual-Leaves',\n",
              "  'You have taken 12 annual leaves.'],\n",
              " ['number of annual leaves taken?',\n",
              "  'Utilized-Annual-Leaves',\n",
              "  'You have taken 12 annual leaves.'],\n",
              " ['annual leaves taken?',\n",
              "  'Utilized-Annual-Leaves',\n",
              "  'You have taken 12 annual leaves.'],\n",
              " ['number of annual leaves already taken?',\n",
              "  'Utilized-Annual-Leaves',\n",
              "  'You have taken 12 annual leaves.'],\n",
              " ['annual leaves taken?',\n",
              "  'Utilized-Annual-Leaves',\n",
              "  'You have taken 12 annual leaves.'],\n",
              " ['annual leaves already taken?',\n",
              "  'Utilized-Annual-Leaves',\n",
              "  'You have taken 12 annual leaves.'],\n",
              " ['Tell me number of annual leaves I have taken',\n",
              "  'Utilized-Annual-Leaves',\n",
              "  'You have taken 12 annual leaves.'],\n",
              " ['number of annual leaves used?',\n",
              "  'Utilized-Annual-Leaves',\n",
              "  'You have taken 12 annual leaves.'],\n",
              " ['my taken annual leaves',\n",
              "  'Utilized-Annual-Leaves',\n",
              "  'You have taken 12 annual leaves.'],\n",
              " ['annual leaves used?',\n",
              "  'Utilized-Annual-Leaves',\n",
              "  'You have taken 12 annual leaves.'],\n",
              " ['How many optional leaves have I taken',\n",
              "  'Utilized-Optional-Leaves',\n",
              "  'You have taken 1 optional leaves.'],\n",
              " ['How many optional leaves I took',\n",
              "  'Utilized-Optional-Leaves',\n",
              "  'You have taken 1 optional leaves.'],\n",
              " ['optional leaves taken',\n",
              "  'Utilized-Optional-Leaves',\n",
              "  'You have taken 1 optional leaves.'],\n",
              " ['number of optional leaves I have taken?',\n",
              "  'Utilized-Optional-Leaves',\n",
              "  'You have taken 1 optional leaves.'],\n",
              " ['tell me the optional leaves count I have taken',\n",
              "  'Utilized-Optional-Leaves',\n",
              "  'You have taken 1 optional leaves.'],\n",
              " ['tell me number of optional leaves I have taken',\n",
              "  'Utilized-Optional-Leaves',\n",
              "  'You have taken 1 optional leaves.'],\n",
              " ['can you tell me number of optional leaves I have taken',\n",
              "  'Utilized-Optional-Leaves',\n",
              "  'You have taken 1 optional leaves.'],\n",
              " ['please tell me number of optional leaves I have taken',\n",
              "  'Utilized-Optional-Leaves',\n",
              "  'You have taken 1 optional leaves.'],\n",
              " ['How many optional leaves have I taken?',\n",
              "  'Utilized-Optional-Leaves',\n",
              "  'You have taken 1 optional leaves.'],\n",
              " ['number of optional leaves taken?',\n",
              "  'Utilized-Optional-Leaves',\n",
              "  'You have taken 1 optional leaves.'],\n",
              " ['number of optional leaves already taken?',\n",
              "  'Utilized-Optional-Leaves',\n",
              "  'You have taken 1 optional leaves.'],\n",
              " ['optional leaves taken?',\n",
              "  'Utilized-Optional-Leaves',\n",
              "  'You have taken 1 optional leaves.'],\n",
              " ['optional leaves already taken?',\n",
              "  'Utilized-Optional-Leaves',\n",
              "  'You have taken 1 optional leaves.'],\n",
              " ['please tell me number of optional leaves I have used.',\n",
              "  'Utilized-Optional-Leaves',\n",
              "  'You have taken 1 optional leaves.'],\n",
              " ['please tell me number of optional leaves I have used',\n",
              "  'Utilized-Optional-Leaves',\n",
              "  'You have taken 1 optional leaves.'],\n",
              " ['tell me the optional leaves count I have used.',\n",
              "  'Utilized-Optional-Leaves',\n",
              "  'You have taken 1 optional leaves.'],\n",
              " ['tell me the optional leaves count I have used',\n",
              "  'Utilized-Optional-Leaves',\n",
              "  'You have taken 1 optional leaves.'],\n",
              " ['the optional leaves count I have used',\n",
              "  'Utilized-Optional-Leaves',\n",
              "  'You have taken 1 optional leaves.'],\n",
              " ['the optional leaves count I have used?',\n",
              "  'Utilized-Optional-Leaves',\n",
              "  'You have taken 1 optional leaves.'],\n",
              " ['tell me the optional leaves count I have taken',\n",
              "  'Utilized-Optional-Leaves',\n",
              "  'You have taken 1 optional leaves.'],\n",
              " ['tell me the optional leaves count I have taken',\n",
              "  'Utilized-Optional-Leaves',\n",
              "  'You have taken 1 optional leaves.'],\n",
              " ['tell me the optional leaves count I have taken',\n",
              "  'Utilized-Optional-Leaves',\n",
              "  'You have taken 1 optional leaves.'],\n",
              " ['How many optional leaves have I used',\n",
              "  'Utilized-Optional-Leaves',\n",
              "  'You have taken 1 optional leaves.'],\n",
              " ['How many optional leaves have I used?',\n",
              "  'Utilized-Optional-Leaves',\n",
              "  'You have taken 1 optional leaves.'],\n",
              " ['number of optional leaves used?',\n",
              "  'Utilized-Optional-Leaves',\n",
              "  'You have taken 1 optional leaves.'],\n",
              " ['optional leaves used?',\n",
              "  'Utilized-Optional-Leaves',\n",
              "  'You have taken 1 optional leaves.'],\n",
              " ['How many leaves do I have?',\n",
              "  'Default-Balance-Annual-Leaves',\n",
              "  'You have 25 annual leaves left.'],\n",
              " ['How many leaves can I take?',\n",
              "  'Default-Balance-Annual-Leaves',\n",
              "  'You have 25 annual leaves left.'],\n",
              " ['How many leaves are remaining?',\n",
              "  'Default-Balance-Annual-Leaves',\n",
              "  'You have 25 annual leaves left.'],\n",
              " ['remaining leaves.',\n",
              "  'Default-Balance-Annual-Leaves',\n",
              "  'You have 25 annual leaves left.'],\n",
              " ['What are my leaves?',\n",
              "  'Default-Balance-Annual-Leaves',\n",
              "  'You have 25 annual leaves left.'],\n",
              " ['Tell me my leave balance.',\n",
              "  'Default-Balance-Annual-Leaves',\n",
              "  'You have 25 annual leaves left.'],\n",
              " ['my remaining leaves.',\n",
              "  'Default-Balance-Annual-Leaves',\n",
              "  'You have 25 annual leaves left.'],\n",
              " ['leave balance.',\n",
              "  'Default-Balance-Annual-Leaves',\n",
              "  'You have 25 annual leaves left.'],\n",
              " ['leaves pending.',\n",
              "  'Default-Balance-Annual-Leaves',\n",
              "  'You have 25 annual leaves left.'],\n",
              " ['tell me the annual leaves count I have remaining',\n",
              "  'Balance-Annual-Leaves',\n",
              "  'You have 25 annual leaves remaining.'],\n",
              " ['How many annual leaves do I have?',\n",
              "  'Balance-Annual-Leaves',\n",
              "  'You have 25 annual leaves remaining.'],\n",
              " ['What are my annual leaves?',\n",
              "  'Balance-Annual-Leaves',\n",
              "  'You have 25 annual leaves remaining.'],\n",
              " ['What is my annual leave balance?',\n",
              "  'Balance-Annual-Leaves',\n",
              "  'You have 25 annual leaves remaining.'],\n",
              " ['Tell me my annual leaves.',\n",
              "  'Balance-Annual-Leaves',\n",
              "  'You have 25 annual leaves remaining.'],\n",
              " ['How many annual leaves are remaining?',\n",
              "  'Balance-Annual-Leaves',\n",
              "  'You have 25 annual leaves remaining.'],\n",
              " ['Tell me my annual leaves remaining',\n",
              "  'Balance-Annual-Leaves',\n",
              "  'You have 25 annual leaves remaining.'],\n",
              " ['remaining annual leaves.',\n",
              "  'Balance-Annual-Leaves',\n",
              "  'You have 25 annual leaves remaining.'],\n",
              " ['annual leaves remaining.',\n",
              "  'Balance-Annual-Leaves',\n",
              "  'You have 25 annual leaves remaining.'],\n",
              " ['number of annual leaves remaining.',\n",
              "  'Balance-Annual-Leaves',\n",
              "  'You have 25 annual leaves remaining.'],\n",
              " ['number of annual leaves I have?',\n",
              "  'Balance-Annual-Leaves',\n",
              "  'You have 25 annual leaves remaining.'],\n",
              " ['annual leaves remaining.',\n",
              "  'Balance-Annual-Leaves',\n",
              "  'You have 25 annual leaves remaining.'],\n",
              " ['Please tell me the annual leaves count I have remaining.',\n",
              "  'Balance-Annual-Leaves',\n",
              "  'You have 25 annual leaves remaining.'],\n",
              " ['Tell me the annual leaves count I have remaining.',\n",
              "  'Balance-Annual-Leaves',\n",
              "  'You have 25 annual leaves remaining.'],\n",
              " ['the annual leaves count I have remaining.',\n",
              "  'Balance-Annual-Leaves',\n",
              "  'You have 25 annual leaves remaining.'],\n",
              " ['my annual leaves count remaining.',\n",
              "  'Balance-Annual-Leaves',\n",
              "  'You have 25 annual leaves remaining.'],\n",
              " ['Tell me my annual leave balance.',\n",
              "  'Balance-Annual-Leaves',\n",
              "  'You have 25 annual leaves remaining.'],\n",
              " ['annual leave balance.',\n",
              "  'Balance-Annual-Leaves',\n",
              "  'You have 25 annual leaves remaining.'],\n",
              " ['annual leaves.',\n",
              "  'Balance-Annual-Leaves',\n",
              "  'You have 25 annual leaves remaining.'],\n",
              " ['can you tell me number of annual leaves I have remaining',\n",
              "  'Balance-Annual-Leaves',\n",
              "  'You have 25 annual leaves remaining.'],\n",
              " ['please tell me number of annual leaves I have remaining',\n",
              "  'Balance-Annual-Leaves',\n",
              "  'You have 25 annual leaves remaining.'],\n",
              " ['How many optional leaves are remaining?',\n",
              "  'Balance-Optional-Leaves',\n",
              "  'You have 2 optional leaves remaining.'],\n",
              " ['optional leaves remaining?',\n",
              "  'Balance-Optional-Leaves',\n",
              "  'You have 2 optional leaves remaining.'],\n",
              " ['number of optional leaves I have remaining?',\n",
              "  'Balance-Optional-Leaves',\n",
              "  'You have 2 optional leaves remaining.'],\n",
              " ['How many optional leaves do I have?',\n",
              "  'Balance-Optional-Leaves',\n",
              "  'You have 2 optional leaves remaining.'],\n",
              " ['How many optional leaves do I have',\n",
              "  'Balance-Optional-Leaves',\n",
              "  'You have 2 optional leaves remaining.'],\n",
              " ['Tell me my optional leave balance?',\n",
              "  'Balance-Optional-Leaves',\n",
              "  'You have 2 optional leaves remaining.'],\n",
              " ['Tell me my optional leaves left?',\n",
              "  'Balance-Optional-Leaves',\n",
              "  'You have 2 optional leaves remaining.'],\n",
              " ['How many optional leaves can I take?',\n",
              "  'Balance-Optional-Leaves',\n",
              "  'You have 2 optional leaves remaining.'],\n",
              " ['optional leaves take?',\n",
              "  'Balance-Optional-Leaves',\n",
              "  'You have 2 optional leaves remaining.'],\n",
              " ['How many optional leaves I have?',\n",
              "  'Balance-Optional-Leaves',\n",
              "  'You have 2 optional leaves remaining.'],\n",
              " ['Tell me my optional leave balance.',\n",
              "  'Balance-Optional-Leaves',\n",
              "  'You have 2 optional leaves remaining.'],\n",
              " ['tell me the optional leaves count I have remaining',\n",
              "  'Balance-Optional-Leaves',\n",
              "  'You have 2 optional leaves remaining.'],\n",
              " ['optional leaves.',\n",
              "  'Balance-Optional-Leaves',\n",
              "  'You have 2 optional leaves remaining.'],\n",
              " ['optional leaves?',\n",
              "  'Balance-Optional-Leaves',\n",
              "  'You have 2 optional leaves remaining.'],\n",
              " ['optional leave balance',\n",
              "  'Balance-Optional-Leaves',\n",
              "  'You have 2 optional leaves remaining.'],\n",
              " ['optional',\n",
              "  'Balance-Optional-Leaves',\n",
              "  'You have 2 optional leaves remaining.'],\n",
              " ['Tell me the optional leaves count I have remaining.',\n",
              "  'Balance-Optional-Leaves',\n",
              "  'You have 2 optional leaves remaining.'],\n",
              " ['the optional leaves count I have remaining?',\n",
              "  'Balance-Optional-Leaves',\n",
              "  'You have 2 optional leaves remaining.'],\n",
              " ['my optional leaves count remaining.',\n",
              "  'Balance-Optional-Leaves',\n",
              "  'You have 2 optional leaves remaining.'],\n",
              " ['please tell me number of optional leaves I have remaining',\n",
              "  'Balance-Optional-Leaves',\n",
              "  'You have 2 optional leaves remaining.'],\n",
              " ['please tell me number of optional leaves I have remaining.',\n",
              "  'Balance-Optional-Leaves',\n",
              "  'You have 2 optional leaves remaining.'],\n",
              " ['number of optional leaves I have remaining.',\n",
              "  'Balance-Optional-Leaves',\n",
              "  'You have 2 optional leaves remaining.'],\n",
              " ['number of optional leaves I have',\n",
              "  'Balance-Optional-Leaves',\n",
              "  'You have 2 optional leaves remaining.'],\n",
              " ['number of optional leaves?',\n",
              "  'Balance-Optional-Leaves',\n",
              "  'You have 2 optional leaves remaining.'],\n",
              " ['How many carry forward leaves do I have?',\n",
              "  'CF',\n",
              "  'You have 30 carry forward leaves.'],\n",
              " ['number of carry forward leaves I have?',\n",
              "  'CF',\n",
              "  'You have 30 carry forward leaves.'],\n",
              " ['tell me the carry forward leaves count I have',\n",
              "  'CF',\n",
              "  'You have 30 carry forward leaves.'],\n",
              " ['tell me number of carry forward leaves I have',\n",
              "  'CF',\n",
              "  'You have 30 carry forward leaves.'],\n",
              " ['can you tell me number of carry forward leaves I have',\n",
              "  'CF',\n",
              "  'You have 30 carry forward leaves.'],\n",
              " ['please tell me number of carry forward leaves I have',\n",
              "  'CF',\n",
              "  'You have 30 carry forward leaves.'],\n",
              " ['How many carry forwards do I have from previous year?',\n",
              "  'CF',\n",
              "  'You have 30 carry forward leaves.'],\n",
              " ['Tell me my carry forward leaves from previous year',\n",
              "  'CF',\n",
              "  'You have 30 carry forward leaves.'],\n",
              " ['Tell me my carry forward leaves',\n",
              "  'CF',\n",
              "  'You have 30 carry forward leaves.'],\n",
              " ['Tell me carry forward leaves', 'CF', 'You have 30 carry forward leaves.'],\n",
              " ['carry forward leaves', 'CF', 'You have 30 carry forward leaves.'],\n",
              " ['carry forward leave', 'CF', 'You have 30 carry forward leaves.'],\n",
              " ['carry forward', 'CF', 'You have 30 carry forward leaves.'],\n",
              " ['previous year carry forward leaves',\n",
              "  'CF',\n",
              "  'You have 30 carry forward leaves.']]"
            ]
          },
          "metadata": {},
          "execution_count": 42
        }
      ]
    },
    {
      "cell_type": "code",
      "source": [
        "features_data, corpus, answers = extract_feature_from_doc(data)"
      ],
      "metadata": {
        "id": "E5f5eT_nNTkL"
      },
      "execution_count": 43,
      "outputs": []
    },
    {
      "cell_type": "code",
      "source": [
        "print(features_data[50])"
      ],
      "metadata": {
        "id": "MiLQw54ENXjK",
        "colab": {
          "base_uri": "https://localhost:8080/"
        },
        "outputId": "3bf6d8e7-1f96-4544-f9ba-fee11cfb259a"
      },
      "execution_count": 44,
      "outputs": [
        {
          "output_type": "stream",
          "name": "stdout",
          "text": [
            "({'mani': True, 'option': True, 'leav': True}, 'Utilized-Optional-Leaves')\n"
          ]
        }
      ]
    },
    {
      "cell_type": "code",
      "source": [
        "corpus"
      ],
      "metadata": {
        "colab": {
          "base_uri": "https://localhost:8080/"
        },
        "id": "k-Lz2FEm28I-",
        "outputId": "ac25e991-a0ba-4806-e68b-ca6361811e64"
      },
      "execution_count": 45,
      "outputs": [
        {
          "output_type": "execute_result",
          "data": {
            "text/plain": [
              "['hello',\n",
              " 'hi',\n",
              " 'hello',\n",
              " 'hi',\n",
              " 'hi',\n",
              " 'hi',\n",
              " 'hey',\n",
              " 'hello',\n",
              " 'hi',\n",
              " 'hey',\n",
              " 'hey',\n",
              " 'hi',\n",
              " 'hey',\n",
              " 'hello',\n",
              " 'good',\n",
              " 'morn',\n",
              " 'good',\n",
              " 'afternoon',\n",
              " 'good',\n",
              " 'even',\n",
              " 'good',\n",
              " 'night',\n",
              " 'today',\n",
              " 'want',\n",
              " 'help',\n",
              " 'need',\n",
              " 'help',\n",
              " 'help',\n",
              " 'want',\n",
              " 'help',\n",
              " 'want',\n",
              " 'assist',\n",
              " 'help',\n",
              " 'great',\n",
              " 'talk',\n",
              " 'great',\n",
              " 'thank',\n",
              " 'help',\n",
              " 'thank',\n",
              " 'thank',\n",
              " 'much',\n",
              " 'thank',\n",
              " 'thank',\n",
              " 'much',\n",
              " 'mani',\n",
              " 'type',\n",
              " 'leav',\n",
              " 'type',\n",
              " 'leav',\n",
              " 'type',\n",
              " 'leav',\n",
              " 'type',\n",
              " 'leav',\n",
              " 'type',\n",
              " 'mani',\n",
              " 'leav',\n",
              " 'taken',\n",
              " 'mani',\n",
              " 'leav',\n",
              " 'alreadi',\n",
              " 'taken',\n",
              " 'mani',\n",
              " 'annual',\n",
              " 'leav',\n",
              " 'mani',\n",
              " 'annual',\n",
              " 'leav',\n",
              " 'taken',\n",
              " 'mani',\n",
              " 'annual',\n",
              " 'leav',\n",
              " 'alreadi',\n",
              " 'taken',\n",
              " 'annual',\n",
              " 'leav',\n",
              " 'count',\n",
              " 'taken',\n",
              " 'mani',\n",
              " 'annual',\n",
              " 'leav',\n",
              " 'taken',\n",
              " 'number',\n",
              " 'annual',\n",
              " 'leav',\n",
              " 'taken',\n",
              " 'annual',\n",
              " 'leav',\n",
              " 'taken',\n",
              " 'number',\n",
              " 'annual',\n",
              " 'leav',\n",
              " 'alreadi',\n",
              " 'taken',\n",
              " 'annual',\n",
              " 'leav',\n",
              " 'taken',\n",
              " 'annual',\n",
              " 'leav',\n",
              " 'alreadi',\n",
              " 'taken',\n",
              " 'number',\n",
              " 'annual',\n",
              " 'leav',\n",
              " 'taken',\n",
              " 'number',\n",
              " 'annual',\n",
              " 'leav',\n",
              " 'taken',\n",
              " 'annual',\n",
              " 'leav',\n",
              " 'annual',\n",
              " 'leav',\n",
              " 'mani',\n",
              " 'option',\n",
              " 'leav',\n",
              " 'taken',\n",
              " 'mani',\n",
              " 'option',\n",
              " 'leav',\n",
              " 'option',\n",
              " 'leav',\n",
              " 'taken',\n",
              " 'number',\n",
              " 'option',\n",
              " 'leav',\n",
              " 'taken',\n",
              " 'option',\n",
              " 'leav',\n",
              " 'count',\n",
              " 'taken',\n",
              " 'number',\n",
              " 'option',\n",
              " 'leav',\n",
              " 'taken',\n",
              " 'number',\n",
              " 'option',\n",
              " 'leav',\n",
              " 'taken',\n",
              " 'number',\n",
              " 'option',\n",
              " 'leav',\n",
              " 'taken',\n",
              " 'mani',\n",
              " 'option',\n",
              " 'leav',\n",
              " 'taken',\n",
              " 'number',\n",
              " 'option',\n",
              " 'leav',\n",
              " 'taken',\n",
              " 'number',\n",
              " 'option',\n",
              " 'leav',\n",
              " 'alreadi',\n",
              " 'taken',\n",
              " 'option',\n",
              " 'leav',\n",
              " 'taken',\n",
              " 'option',\n",
              " 'leav',\n",
              " 'alreadi',\n",
              " 'taken',\n",
              " 'number',\n",
              " 'option',\n",
              " 'leav',\n",
              " 'number',\n",
              " 'option',\n",
              " 'leav',\n",
              " 'option',\n",
              " 'leav',\n",
              " 'count',\n",
              " 'use',\n",
              " 'option',\n",
              " 'leav',\n",
              " 'count',\n",
              " 'use',\n",
              " 'option',\n",
              " 'leav',\n",
              " 'count',\n",
              " 'use',\n",
              " 'option',\n",
              " 'leav',\n",
              " 'count',\n",
              " 'use',\n",
              " 'option',\n",
              " 'leav',\n",
              " 'count',\n",
              " 'taken',\n",
              " 'option',\n",
              " 'leav',\n",
              " 'count',\n",
              " 'taken',\n",
              " 'option',\n",
              " 'leav',\n",
              " 'count',\n",
              " 'taken',\n",
              " 'mani',\n",
              " 'option',\n",
              " 'leav',\n",
              " 'mani',\n",
              " 'option',\n",
              " 'leav',\n",
              " 'number',\n",
              " 'option',\n",
              " 'leav',\n",
              " 'option',\n",
              " 'leav',\n",
              " 'mani',\n",
              " 'leav',\n",
              " 'mani',\n",
              " 'leav',\n",
              " 'take',\n",
              " 'mani',\n",
              " 'leav',\n",
              " 'remain',\n",
              " 'remain',\n",
              " 'leav',\n",
              " 'leav',\n",
              " 'tell',\n",
              " 'leav',\n",
              " 'balanc',\n",
              " 'remain',\n",
              " 'leav',\n",
              " 'leav',\n",
              " 'balanc',\n",
              " 'leav',\n",
              " 'pend',\n",
              " 'annual',\n",
              " 'leav',\n",
              " 'count',\n",
              " 'remain',\n",
              " 'mani',\n",
              " 'annual',\n",
              " 'leav',\n",
              " 'annual',\n",
              " 'leav',\n",
              " 'annual',\n",
              " 'leav',\n",
              " 'balanc',\n",
              " 'annual',\n",
              " 'leav',\n",
              " 'mani',\n",
              " 'annual',\n",
              " 'leav',\n",
              " 'remain',\n",
              " 'annual',\n",
              " 'leav',\n",
              " 'remain',\n",
              " 'remain',\n",
              " 'annual',\n",
              " 'leav',\n",
              " 'annual',\n",
              " 'leav',\n",
              " 'remain',\n",
              " 'number',\n",
              " 'annual',\n",
              " 'leav',\n",
              " 'remain',\n",
              " 'number',\n",
              " 'annual',\n",
              " 'leav',\n",
              " 'annual',\n",
              " 'leav',\n",
              " 'remain',\n",
              " 'annual',\n",
              " 'leav',\n",
              " 'count',\n",
              " 'remain',\n",
              " 'annual',\n",
              " 'leav',\n",
              " 'count',\n",
              " 'remain',\n",
              " 'annual',\n",
              " 'leav',\n",
              " 'count',\n",
              " 'remain',\n",
              " 'annual',\n",
              " 'leav',\n",
              " 'count',\n",
              " 'remain',\n",
              " 'annual',\n",
              " 'leav',\n",
              " 'balanc',\n",
              " 'annual',\n",
              " 'leav',\n",
              " 'balanc',\n",
              " 'annual',\n",
              " 'leav',\n",
              " 'number',\n",
              " 'annual',\n",
              " 'leav',\n",
              " 'remain',\n",
              " 'number',\n",
              " 'annual',\n",
              " 'leav',\n",
              " 'remain',\n",
              " 'mani',\n",
              " 'option',\n",
              " 'leav',\n",
              " 'remain',\n",
              " 'option',\n",
              " 'leav',\n",
              " 'remain',\n",
              " 'number',\n",
              " 'option',\n",
              " 'leav',\n",
              " 'remain',\n",
              " 'mani',\n",
              " 'option',\n",
              " 'leav',\n",
              " 'mani',\n",
              " 'option',\n",
              " 'leav',\n",
              " 'option',\n",
              " 'leav',\n",
              " 'balanc',\n",
              " 'option',\n",
              " 'leav',\n",
              " 'mani',\n",
              " 'option',\n",
              " 'leav',\n",
              " 'take',\n",
              " 'option',\n",
              " 'leav',\n",
              " 'take',\n",
              " 'mani',\n",
              " 'option',\n",
              " 'leav',\n",
              " 'option',\n",
              " 'leav',\n",
              " 'balanc',\n",
              " 'option',\n",
              " 'leav',\n",
              " 'count',\n",
              " 'remain',\n",
              " 'option',\n",
              " 'leav',\n",
              " 'option',\n",
              " 'leav',\n",
              " 'option',\n",
              " 'leav',\n",
              " 'balanc',\n",
              " 'option',\n",
              " 'option',\n",
              " 'leav',\n",
              " 'count',\n",
              " 'remain',\n",
              " 'option',\n",
              " 'leav',\n",
              " 'count',\n",
              " 'remain',\n",
              " 'option',\n",
              " 'leav',\n",
              " 'count',\n",
              " 'remain',\n",
              " 'number',\n",
              " 'option',\n",
              " 'leav',\n",
              " 'remain',\n",
              " 'number',\n",
              " 'option',\n",
              " 'leav',\n",
              " 'remain',\n",
              " 'number',\n",
              " 'option',\n",
              " 'leav',\n",
              " 'remain',\n",
              " 'number',\n",
              " 'option',\n",
              " 'leav',\n",
              " 'number',\n",
              " 'option',\n",
              " 'leav',\n",
              " 'mani',\n",
              " 'carri',\n",
              " 'forward',\n",
              " 'leav',\n",
              " 'number',\n",
              " 'carri',\n",
              " 'forward',\n",
              " 'leav',\n",
              " 'tell',\n",
              " 'carri',\n",
              " 'forward',\n",
              " 'leav',\n",
              " 'count',\n",
              " 'number',\n",
              " 'forward',\n",
              " 'leav',\n",
              " 'number',\n",
              " 'forward',\n",
              " 'leav',\n",
              " 'number',\n",
              " 'forward',\n",
              " 'leav',\n",
              " 'mani',\n",
              " 'carri',\n",
              " 'forward',\n",
              " 'previous',\n",
              " 'year',\n",
              " 'tell',\n",
              " 'carri',\n",
              " 'forward',\n",
              " 'leav',\n",
              " 'previous',\n",
              " 'year',\n",
              " 'tell',\n",
              " 'carri',\n",
              " 'forward',\n",
              " 'leav',\n",
              " 'tell',\n",
              " 'carri',\n",
              " 'forward',\n",
              " 'leav',\n",
              " 'forward',\n",
              " 'leav',\n",
              " 'carri',\n",
              " 'forward',\n",
              " 'leav',\n",
              " 'carri',\n",
              " 'forward',\n",
              " 'previous',\n",
              " 'year',\n",
              " 'carri',\n",
              " 'forward',\n",
              " 'leav']"
            ]
          },
          "metadata": {},
          "execution_count": 45
        }
      ]
    },
    {
      "cell_type": "code",
      "source": [
        "answers"
      ],
      "metadata": {
        "colab": {
          "base_uri": "https://localhost:8080/"
        },
        "id": "v6hTTywz29Yi",
        "outputId": "0531f65b-8b49-49ca-ad63-20e52fb934f8"
      },
      "execution_count": 47,
      "outputs": [
        {
          "output_type": "execute_result",
          "data": {
            "text/plain": [
              "{'Greetings': 'Hello. I am Dexter. I will serve your leave enquiries.',\n",
              " 'Morning': 'Good Morning. I am Dexter. I will serve your leave enquiries.',\n",
              " 'Afternoon': 'Good afternoon. I am Dexter. I will serve your leave enquiries.',\n",
              " 'Evening': 'Good evening. I am Dexter. I will serve your leave enquiries.',\n",
              " 'Goodbye': 'Good night. Take care.',\n",
              " 'Opening': \"I'm fine! Thank you. How can I help you?\",\n",
              " 'Help': 'How can I help you?',\n",
              " 'No-Help': 'Ok sir/madam. No problem. Have a nice day.',\n",
              " 'Closing': \"It's glad to know that I have been helpful. Have a good day!\",\n",
              " 'Leaves-Type': 'Currently I know about two: annual and optional leaves.',\n",
              " 'Default-Utilized-Annual-Leaves': 'You have used 12 annual leaves.',\n",
              " 'Utilized-Annual-Leaves': 'You have taken 12 annual leaves.',\n",
              " 'Utilized-Optional-Leaves': 'You have taken 1 optional leaves.',\n",
              " 'Default-Balance-Annual-Leaves': 'You have 25 annual leaves left.',\n",
              " 'Balance-Annual-Leaves': 'You have 25 annual leaves remaining.',\n",
              " 'Balance-Optional-Leaves': 'You have 2 optional leaves remaining.',\n",
              " 'CF': 'You have 30 carry forward leaves.'}"
            ]
          },
          "metadata": {},
          "execution_count": 47
        }
      ]
    },
    {
      "cell_type": "markdown",
      "source": [
        "## Train a  model using these features"
      ],
      "metadata": {
        "id": "8cbHDuQl4JMJ"
      }
    },
    {
      "cell_type": "code",
      "source": [
        "## split data into train and test sets\n",
        "split_ratio = 0.8"
      ],
      "metadata": {
        "id": "zXirvBFA2-0i"
      },
      "execution_count": 48,
      "outputs": []
    },
    {
      "cell_type": "code",
      "source": [
        "def split_dataset(data, split_ratio):\n",
        "    random.shuffle(data)\n",
        "    data_length = len(data)\n",
        "    train_split = int(data_length * split_ratio)\n",
        "    return (data[:train_split]), (data[train_split:])"
      ],
      "metadata": {
        "id": "6Q5gb16z4MLJ"
      },
      "execution_count": 49,
      "outputs": []
    },
    {
      "cell_type": "code",
      "source": [
        "training_data, test_data = split_dataset(features_data, split_ratio)"
      ],
      "metadata": {
        "id": "qtykXNeG4N5B"
      },
      "execution_count": 50,
      "outputs": []
    },
    {
      "cell_type": "code",
      "source": [
        "training_data"
      ],
      "metadata": {
        "colab": {
          "base_uri": "https://localhost:8080/"
        },
        "id": "bhEj-bY14Pwt",
        "outputId": "edde370b-cad7-47aa-bc7c-a646bc595fa1"
      },
      "execution_count": 51,
      "outputs": [
        {
          "output_type": "execute_result",
          "data": {
            "text/plain": [
              "[({'type': True}, 'Leaves-Type'),\n",
              " ({'option': True, 'leav': True, 'take': True}, 'Balance-Optional-Leaves'),\n",
              " ({'mani': True, 'annual': True, 'leav': True, 'taken': True},\n",
              "  'Utilized-Annual-Leaves'),\n",
              " ({'want': True, 'help': True}, 'Help'),\n",
              " ({'leav': True, 'balanc': True}, 'Default-Balance-Annual-Leaves'),\n",
              " ({'number': True, 'option': True, 'leav': True, 'taken': True},\n",
              "  'Utilized-Optional-Leaves'),\n",
              " ({'hi': True, 'hello': True}, 'Greetings'),\n",
              " ({'hi': True}, 'Greetings'),\n",
              " ({'number': True, 'annual': True, 'leav': True, 'taken': True},\n",
              "  'Utilized-Annual-Leaves'),\n",
              " ({'mani': True, 'option': True, 'leav': True}, 'Utilized-Optional-Leaves'),\n",
              " ({'mani': True, 'annual': True, 'leav': True, 'remain': True},\n",
              "  'Balance-Annual-Leaves'),\n",
              " ({'previous': True,\n",
              "   'year': True,\n",
              "   'carri': True,\n",
              "   'forward': True,\n",
              "   'leav': True},\n",
              "  'CF'),\n",
              " ({'tell': True, 'carri': True, 'forward': True, 'leav': True}, 'CF'),\n",
              " ({'thank': True}, 'Closing'),\n",
              " ({'good': True, 'morn': True}, 'Morning'),\n",
              " ({'number': True, 'option': True, 'leav': True}, 'Utilized-Optional-Leaves'),\n",
              " ({'hello': True, 'hi': True}, 'Greetings'),\n",
              " ({'mani': True, 'option': True, 'leav': True, 'taken': True},\n",
              "  'Utilized-Optional-Leaves'),\n",
              " ({'mani': True,\n",
              "   'carri': True,\n",
              "   'forward': True,\n",
              "   'previous': True,\n",
              "   'year': True},\n",
              "  'CF'),\n",
              " ({'good': True, 'night': True}, 'Goodbye'),\n",
              " ({'mani': True, 'option': True, 'leav': True, 'remain': True},\n",
              "  'Balance-Optional-Leaves'),\n",
              " ({'number': True, 'option': True, 'leav': True, 'taken': True},\n",
              "  'Utilized-Optional-Leaves'),\n",
              " ({'option': True, 'leav': True, 'count': True, 'use': True},\n",
              "  'Utilized-Optional-Leaves'),\n",
              " ({'option': True, 'leav': True, 'balanc': True}, 'Balance-Optional-Leaves'),\n",
              " ({'hey': True}, 'Greetings'),\n",
              " ({'great': True, 'talk': True}, 'Closing'),\n",
              " ({'tell': True,\n",
              "   'carri': True,\n",
              "   'forward': True,\n",
              "   'leav': True,\n",
              "   'previous': True,\n",
              "   'year': True},\n",
              "  'CF'),\n",
              " ({'good': True, 'even': True}, 'Evening'),\n",
              " ({'need': True, 'help': True}, 'Help'),\n",
              " ({'carri': True, 'forward': True, 'leav': True}, 'CF'),\n",
              " ({'option': True, 'leav': True, 'balanc': True}, 'Balance-Optional-Leaves'),\n",
              " ({'hello': True}, 'Greetings'),\n",
              " ({'good': True, 'afternoon': True}, 'Afternoon'),\n",
              " ({'leav': True, 'pend': True}, 'Default-Balance-Annual-Leaves'),\n",
              " ({'number': True, 'annual': True, 'leav': True}, 'Balance-Annual-Leaves'),\n",
              " ({'number': True, 'option': True, 'leav': True, 'taken': True},\n",
              "  'Utilized-Optional-Leaves'),\n",
              " ({'great': True}, 'Closing'),\n",
              " ({'thank': True, 'much': True}, 'Closing'),\n",
              " ({'thank': True, 'much': True}, 'Closing'),\n",
              " ({'option': True, 'leav': True}, 'Utilized-Optional-Leaves'),\n",
              " ({'option': True, 'leav': True, 'count': True, 'remain': True},\n",
              "  'Balance-Optional-Leaves'),\n",
              " ({'today': True}, 'Opening'),\n",
              " ({'mani': True, 'option': True, 'leav': True}, 'Utilized-Optional-Leaves'),\n",
              " ({'mani': True, 'option': True, 'leav': True}, 'Utilized-Optional-Leaves'),\n",
              " ({'annual': True, 'leav': True, 'alreadi': True, 'taken': True},\n",
              "  'Utilized-Annual-Leaves'),\n",
              " ({'number': True, 'forward': True, 'leav': True}, 'CF'),\n",
              " ({'annual': True, 'leav': True, 'balanc': True}, 'Balance-Annual-Leaves'),\n",
              " ({'annual': True, 'leav': True, 'remain': True}, 'Balance-Annual-Leaves'),\n",
              " ({'annual': True, 'leav': True, 'count': True, 'remain': True},\n",
              "  'Balance-Annual-Leaves'),\n",
              " ({'annual': True, 'leav': True}, 'Utilized-Annual-Leaves'),\n",
              " ({'want': True, 'help': True}, 'No-Help'),\n",
              " ({'want': True, 'assist': True}, 'No-Help'),\n",
              " ({'number': True, 'option': True, 'leav': True}, 'Utilized-Optional-Leaves'),\n",
              " ({'number': True, 'option': True, 'leav': True, 'taken': True},\n",
              "  'Utilized-Optional-Leaves'),\n",
              " ({'number': True, 'annual': True, 'leav': True, 'remain': True},\n",
              "  'Balance-Annual-Leaves'),\n",
              " ({'thank': True}, 'Closing'),\n",
              " ({'remain': True, 'leav': True}, 'Default-Balance-Annual-Leaves'),\n",
              " ({'tell': True, 'carri': True, 'forward': True, 'leav': True}, 'CF'),\n",
              " ({'annual': True, 'leav': True, 'remain': True}, 'Balance-Annual-Leaves'),\n",
              " ({'annual': True, 'leav': True, 'taken': True}, 'Utilized-Annual-Leaves'),\n",
              " ({'option': True, 'leav': True}, 'Balance-Optional-Leaves'),\n",
              " ({'hi': True}, 'Greetings'),\n",
              " ({'mani': True, 'option': True, 'leav': True, 'taken': True},\n",
              "  'Utilized-Optional-Leaves'),\n",
              " ({'mani': True, 'annual': True, 'leav': True}, 'Utilized-Annual-Leaves'),\n",
              " ({'option': True, 'leav': True, 'count': True, 'remain': True},\n",
              "  'Balance-Optional-Leaves'),\n",
              " ({'number': True, 'option': True, 'leav': True, 'remain': True},\n",
              "  'Balance-Optional-Leaves'),\n",
              " ({'option': True, 'leav': True, 'balanc': True}, 'Balance-Optional-Leaves'),\n",
              " ({'number': True, 'option': True, 'leav': True, 'remain': True},\n",
              "  'Balance-Optional-Leaves'),\n",
              " ({'mani': True, 'option': True, 'leav': True}, 'Balance-Optional-Leaves'),\n",
              " ({'option': True, 'leav': True, 'taken': True}, 'Utilized-Optional-Leaves'),\n",
              " ({'number': True, 'option': True, 'leav': True}, 'Utilized-Optional-Leaves'),\n",
              " ({'annual': True, 'leav': True, 'balanc': True}, 'Balance-Annual-Leaves'),\n",
              " ({'annual': True, 'leav': True, 'count': True, 'remain': True},\n",
              "  'Balance-Annual-Leaves'),\n",
              " ({'number': True, 'option': True, 'leav': True}, 'Balance-Optional-Leaves'),\n",
              " ({'option': True, 'leav': True, 'count': True, 'use': True},\n",
              "  'Utilized-Optional-Leaves'),\n",
              " ({'remain': True, 'leav': True}, 'Default-Balance-Annual-Leaves'),\n",
              " ({'number': True,\n",
              "   'option': True,\n",
              "   'leav': True,\n",
              "   'alreadi': True,\n",
              "   'taken': True},\n",
              "  'Utilized-Optional-Leaves'),\n",
              " ({'tell': True, 'leav': True, 'balanc': True},\n",
              "  'Default-Balance-Annual-Leaves'),\n",
              " ({'number': True, 'carri': True, 'forward': True, 'leav': True}, 'CF'),\n",
              " ({'number': True, 'forward': True, 'leav': True}, 'CF'),\n",
              " ({'mani': True, 'annual': True, 'leav': True}, 'Balance-Annual-Leaves'),\n",
              " ({'number': True, 'option': True, 'leav': True, 'remain': True},\n",
              "  'Balance-Optional-Leaves'),\n",
              " ({'option': True, 'leav': True, 'count': True, 'remain': True},\n",
              "  'Balance-Optional-Leaves'),\n",
              " ({'mani': True, 'option': True, 'leav': True}, 'Balance-Optional-Leaves'),\n",
              " ({'annual': True, 'leav': True}, 'Balance-Annual-Leaves'),\n",
              " ({'option': True, 'leav': True}, 'Balance-Optional-Leaves'),\n",
              " ({'help': True}, 'No-Help'),\n",
              " ({'number': True, 'annual': True, 'leav': True}, 'Utilized-Annual-Leaves'),\n",
              " ({'number': True, 'option': True, 'leav': True, 'remain': True},\n",
              "  'Balance-Optional-Leaves'),\n",
              " ({'option': True, 'leav': True, 'count': True, 'taken': True},\n",
              "  'Utilized-Optional-Leaves'),\n",
              " ({'hey': True, 'hello': True}, 'Greetings'),\n",
              " ({'annual': True, 'leav': True, 'count': True, 'remain': True},\n",
              "  'Balance-Annual-Leaves'),\n",
              " ({'annual': True, 'leav': True, 'remain': True}, 'Balance-Annual-Leaves'),\n",
              " ({'carri': True, 'forward': True}, 'CF'),\n",
              " ({'number': True, 'annual': True, 'leav': True, 'remain': True},\n",
              "  'Balance-Annual-Leaves'),\n",
              " ({'number': True, 'option': True, 'leav': True}, 'Balance-Optional-Leaves'),\n",
              " ({'annual': True, 'leav': True, 'taken': True}, 'Utilized-Annual-Leaves'),\n",
              " ({'hi': True}, 'Greetings'),\n",
              " ({'option': True, 'leav': True, 'taken': True}, 'Utilized-Optional-Leaves'),\n",
              " ({'leav': True}, 'Default-Balance-Annual-Leaves'),\n",
              " ({'mani': True, 'annual': True, 'leav': True, 'taken': True},\n",
              "  'Utilized-Annual-Leaves'),\n",
              " ({'annual': True, 'leav': True, 'count': True, 'remain': True},\n",
              "  'Balance-Annual-Leaves'),\n",
              " ({'option': True}, 'Balance-Optional-Leaves'),\n",
              " ({'mani': True, 'leav': True, 'taken': True},\n",
              "  'Default-Utilized-Annual-Leaves'),\n",
              " ({'option': True, 'leav': True, 'count': True, 'use': True},\n",
              "  'Utilized-Optional-Leaves'),\n",
              " ({'mani': True, 'option': True, 'leav': True, 'take': True},\n",
              "  'Balance-Optional-Leaves'),\n",
              " ({'option': True, 'leav': True, 'count': True, 'remain': True},\n",
              "  'Balance-Optional-Leaves'),\n",
              " ({'taken': True, 'annual': True, 'leav': True}, 'Utilized-Annual-Leaves'),\n",
              " ({'number': True, 'option': True, 'leav': True, 'taken': True},\n",
              "  'Utilized-Optional-Leaves'),\n",
              " ({'type': True, 'leav': True}, 'Leaves-Type'),\n",
              " ({'leav': True, 'type': True}, 'Leaves-Type'),\n",
              " ({'annual': True, 'leav': True, 'count': True, 'taken': True},\n",
              "  'Utilized-Annual-Leaves'),\n",
              " ({'mani': True, 'leav': True}, 'Default-Balance-Annual-Leaves'),\n",
              " ({'annual': True, 'leav': True, 'balanc': True}, 'Balance-Annual-Leaves')]"
            ]
          },
          "metadata": {},
          "execution_count": 51
        }
      ]
    },
    {
      "cell_type": "code",
      "source": [
        "# save the data\n",
        "np.save('training_data', training_data)\n",
        "np.save('test_data', test_data)"
      ],
      "metadata": {
        "id": "YaAsUZ0C4QpH"
      },
      "execution_count": 52,
      "outputs": []
    },
    {
      "cell_type": "markdown",
      "source": [
        "## Classification using Decision Tree"
      ],
      "metadata": {
        "id": "0hVrSVOh4Trm"
      }
    },
    {
      "cell_type": "code",
      "source": [
        "training_data = np.load('training_data.npy', allow_pickle=True)\n",
        "test_data = np.load('test_data.npy' , allow_pickle=True)"
      ],
      "metadata": {
        "id": "cBUQYwug4THe"
      },
      "execution_count": 53,
      "outputs": []
    },
    {
      "cell_type": "code",
      "source": [],
      "metadata": {
        "id": "bTgLvLw-70Mz"
      },
      "execution_count": null,
      "outputs": []
    },
    {
      "cell_type": "markdown",
      "source": [
        "#### Imp Links\n",
        "\n",
        "*   https://www.nltk.org/_modules/nltk/classify/decisiontree.html#DecisionTreeClassifier.train\n",
        "*   https://www.nltk.org/book/ch06.html#DecisionTrees\n",
        "\n"
      ],
      "metadata": {
        "id": "B1jIttJ47Taz"
      }
    },
    {
      "cell_type": "markdown",
      "source": [
        "1. **entropy_cutoff**\n",
        "\n",
        "Definition: This is the minimum\n",
        "information gain (based on entropy) required for a split at a node in the decision tree.\n",
        "\n",
        "Details:\n",
        "Entropy measures the impurity or uncertainty in the data. When splitting a node, the algorithm computes the information gain, which quantifies how much uncertainty is reduced by making that split.\n",
        "\n",
        "If the information gain for a potential split is less than entropy_cutoff, the split is not made, and the node becomes a leaf.\n",
        "\n",
        "Effect of Larger or Smaller Values:\n",
        "Larger entropy_cutoff: The tree stops growing sooner because splits require higher information gain. This can prevent overfitting but may underfit the data.\n",
        "\n",
        "Smaller entropy_cutoff: The tree can grow deeper because it allows splits with lower information gain, which might overfit the data.\n",
        "\n",
        "2. **Support_cutoff**\n",
        "\n",
        "\n",
        "Definition: This specifies the minimum number of data points (support) required at a node to consider a split.\n",
        "\n",
        "Details:\n",
        "If a node has fewer data points than support_cutoff, it is not split further, and the node becomes a leaf.\n",
        "\n",
        "Effect of Larger or Smaller Values:\n",
        "Larger support_cutoff: Nodes with fewer samples will not split, making the tree shallower. This reduces overfitting but risks underfitting, as small patterns might be missed.\n",
        "\n",
        "Smaller support_cutoff: The tree can grow deeper, potentially overfitting to small patterns in the data."
      ],
      "metadata": {
        "id": "Pea-Jw9N8GjX"
      }
    },
    {
      "cell_type": "code",
      "source": [
        "def train_using_decision_tree(training_data, test_data):\n",
        "\n",
        "    classifier = nltk.classify.DecisionTreeClassifier.train(training_data, entropy_cutoff=0.6, support_cutoff=6)\n",
        "    classifier_name = type(classifier).__name__\n",
        "    training_set_accuracy = nltk.classify.accuracy(classifier, training_data)\n",
        "    print('training set accuracy: ', training_set_accuracy)\n",
        "    test_set_accuracy = nltk.classify.accuracy(classifier, test_data)\n",
        "    print('test set accuracy: ', test_set_accuracy)\n",
        "    return classifier, classifier_name, test_set_accuracy, training_set_accuracy"
      ],
      "metadata": {
        "id": "nE2SQybT4Xi8"
      },
      "execution_count": 54,
      "outputs": []
    },
    {
      "cell_type": "code",
      "source": [
        "dtclassifier, classifier_name, test_set_accuracy, training_set_accuracy = train_using_decision_tree(training_data, test_data)"
      ],
      "metadata": {
        "colab": {
          "base_uri": "https://localhost:8080/"
        },
        "id": "7mdrbcYb4Yfw",
        "outputId": "7d5ffa3d-f8ea-4b31-d8e0-e3941cb8e81d"
      },
      "execution_count": 55,
      "outputs": [
        {
          "output_type": "stream",
          "name": "stdout",
          "text": [
            "training set accuracy:  0.8859649122807017\n",
            "test set accuracy:  0.9310344827586207\n"
          ]
        }
      ]
    },
    {
      "cell_type": "markdown",
      "source": [
        "## Classification using Naive Bayes"
      ],
      "metadata": {
        "id": "FNAVaxb-4dPG"
      }
    },
    {
      "cell_type": "markdown",
      "source": [
        "* https://www.nltk.org/_modules/nltk/classify/naivebayes.html"
      ],
      "metadata": {
        "id": "1Tzs2e708sf1"
      }
    },
    {
      "cell_type": "code",
      "source": [
        "def train_using_naive_bayes(training_data, test_data):\n",
        "    classifier = nltk.NaiveBayesClassifier.train(training_data)\n",
        "    classifier_name = type(classifier).__name__\n",
        "    training_set_accuracy = nltk.classify.accuracy(classifier, training_data)\n",
        "    test_set_accuracy = nltk.classify.accuracy(classifier, test_data)\n",
        "    return classifier, classifier_name, test_set_accuracy, training_set_accuracy"
      ],
      "metadata": {
        "id": "smggdH-c4blk"
      },
      "execution_count": 56,
      "outputs": []
    },
    {
      "cell_type": "code",
      "source": [
        "classifier, classifier_name, test_set_accuracy, training_set_accuracy = train_using_naive_bayes(training_data, test_data)\n",
        "print(training_set_accuracy)\n",
        "print(test_set_accuracy)\n",
        "print(len(classifier.most_informative_features()))\n",
        "classifier.show_most_informative_features()"
      ],
      "metadata": {
        "colab": {
          "base_uri": "https://localhost:8080/"
        },
        "id": "tPHdoFtl4gQc",
        "outputId": "e1b2c32a-fc9e-4564-cd54-dc7a5ab87992"
      },
      "execution_count": 57,
      "outputs": [
        {
          "output_type": "stream",
          "name": "stdout",
          "text": [
            "0.8508771929824561\n",
            "0.7586206896551724\n",
            "72\n",
            "Most Informative Features\n",
            "                    leav = None           Greeti : Balanc =     13.9 : 1.0\n",
            "                    mani = True           Defaul : CF     =      5.5 : 1.0\n",
            "                   carri = None           Balanc : CF     =      4.3 : 1.0\n",
            "                   taken = None           Balanc : Utiliz =      3.4 : 1.0\n",
            "                   thank = None           Balanc : Closin =      2.7 : 1.0\n",
            "                    help = None           Balanc : No-Hel =      2.6 : 1.0\n",
            "                    want = None           Balanc : No-Hel =      2.6 : 1.0\n",
            "                  remain = None           Utiliz : Balanc =      2.6 : 1.0\n",
            "                      hi = None           Balanc : Greeti =      2.5 : 1.0\n",
            "                   count = True           Balanc : Utiliz =      2.1 : 1.0\n"
          ]
        }
      ]
    },
    {
      "cell_type": "markdown",
      "source": [
        "#### Checking classifier"
      ],
      "metadata": {
        "id": "3WLtTgLr9If6"
      }
    },
    {
      "cell_type": "code",
      "source": [
        "classifier.classify(({'mani': True, 'option': True, 'leav': True}))"
      ],
      "metadata": {
        "colab": {
          "base_uri": "https://localhost:8080/",
          "height": 36
        },
        "id": "HaRRcbXQ4hgH",
        "outputId": "260a8c43-d6ba-433c-c9ab-52ef82ef54cd"
      },
      "execution_count": 58,
      "outputs": [
        {
          "output_type": "execute_result",
          "data": {
            "text/plain": [
              "'Utilized-Optional-Leaves'"
            ],
            "application/vnd.google.colaboratory.intrinsic+json": {
              "type": "string"
            }
          },
          "metadata": {},
          "execution_count": 58
        }
      ]
    },
    {
      "cell_type": "code",
      "source": [
        "extract_feature(\"hello\") # User Inputs text"
      ],
      "metadata": {
        "colab": {
          "base_uri": "https://localhost:8080/"
        },
        "id": "bFx2O3Tv4kU-",
        "outputId": "4faea818-579d-4597-e173-4a920e370a10"
      },
      "execution_count": 59,
      "outputs": [
        {
          "output_type": "execute_result",
          "data": {
            "text/plain": [
              "['hello']"
            ]
          },
          "metadata": {},
          "execution_count": 59
        }
      ]
    },
    {
      "cell_type": "code",
      "source": [
        "word_feats(extract_feature(\"hello\")) #extract features"
      ],
      "metadata": {
        "colab": {
          "base_uri": "https://localhost:8080/"
        },
        "id": "rIWYFwry4lch",
        "outputId": "062ca061-1dad-4fdc-a3c6-c08f477a2895"
      },
      "execution_count": 60,
      "outputs": [
        {
          "output_type": "execute_result",
          "data": {
            "text/plain": [
              "{'hello': True}"
            ]
          },
          "metadata": {},
          "execution_count": 60
        }
      ]
    },
    {
      "cell_type": "code",
      "source": [
        "input_sentence = \"how many balanced leaves do I have?\" #input sentence by user\n",
        "classifier.classify(word_feats(extract_feature(input_sentence)))"
      ],
      "metadata": {
        "colab": {
          "base_uri": "https://localhost:8080/",
          "height": 36
        },
        "id": "FPrXZh3A4nyl",
        "outputId": "50c921e2-4eef-46f6-b9e0-d11664becd81"
      },
      "execution_count": 61,
      "outputs": [
        {
          "output_type": "execute_result",
          "data": {
            "text/plain": [
              "'Utilized-Optional-Leaves'"
            ],
            "application/vnd.google.colaboratory.intrinsic+json": {
              "type": "string"
            }
          },
          "metadata": {},
          "execution_count": 61
        }
      ]
    },
    {
      "cell_type": "code",
      "source": [
        "def reply(input_sentence):\n",
        "  # from input sentence we extract features, then create bag of words, then use classifier\n",
        "    category = dtclassifier.classify(word_feats(extract_feature(input_sentence)))\n",
        "    return answers[category] #once we got the category we use answers values from dict answers\n",
        "\n",
        ""
      ],
      "metadata": {
        "id": "fHPl3b3M4pCD"
      },
      "execution_count": 62,
      "outputs": []
    },
    {
      "cell_type": "code",
      "source": [
        "reply('Hi') #reply from chatbot"
      ],
      "metadata": {
        "colab": {
          "base_uri": "https://localhost:8080/",
          "height": 36
        },
        "id": "FWKWXpTn4reU",
        "outputId": "942d226e-8d7a-403e-dded-1c34c647c41c"
      },
      "execution_count": 63,
      "outputs": [
        {
          "output_type": "execute_result",
          "data": {
            "text/plain": [
              "'Hello. I am Dexter. I will serve your leave enquiries.'"
            ],
            "application/vnd.google.colaboratory.intrinsic+json": {
              "type": "string"
            }
          },
          "metadata": {},
          "execution_count": 63
        }
      ]
    },
    {
      "cell_type": "code",
      "source": [
        "reply('How many annual leaves do I have left?')"
      ],
      "metadata": {
        "colab": {
          "base_uri": "https://localhost:8080/",
          "height": 36
        },
        "id": "IvgtuLgs4thu",
        "outputId": "eba0239c-af56-49ae-ec74-c5ff5e72862f"
      },
      "execution_count": 64,
      "outputs": [
        {
          "output_type": "execute_result",
          "data": {
            "text/plain": [
              "'You have 25 annual leaves remaining.'"
            ],
            "application/vnd.google.colaboratory.intrinsic+json": {
              "type": "string"
            }
          },
          "metadata": {},
          "execution_count": 64
        }
      ]
    },
    {
      "cell_type": "code",
      "source": [
        "reply('How many leaves have I taken?')"
      ],
      "metadata": {
        "colab": {
          "base_uri": "https://localhost:8080/",
          "height": 36
        },
        "id": "q4sSwmZf4u-u",
        "outputId": "d1bd0aa5-9ea6-404c-b310-e4982d2bdb7f"
      },
      "execution_count": 65,
      "outputs": [
        {
          "output_type": "execute_result",
          "data": {
            "text/plain": [
              "'You have taken 12 annual leaves.'"
            ],
            "application/vnd.google.colaboratory.intrinsic+json": {
              "type": "string"
            }
          },
          "metadata": {},
          "execution_count": 65
        }
      ]
    },
    {
      "cell_type": "code",
      "source": [
        "reply('Thanks!')"
      ],
      "metadata": {
        "colab": {
          "base_uri": "https://localhost:8080/",
          "height": 36
        },
        "id": "FoqZaeEr4wiw",
        "outputId": "c7c230ea-0f32-40fb-9b27-64c2090547fe"
      },
      "execution_count": 66,
      "outputs": [
        {
          "output_type": "execute_result",
          "data": {
            "text/plain": [
              "\"It's glad to know that I have been helpful. Have a good day!\""
            ],
            "application/vnd.google.colaboratory.intrinsic+json": {
              "type": "string"
            }
          },
          "metadata": {},
          "execution_count": 66
        }
      ]
    },
    {
      "cell_type": "markdown",
      "source": [
        "### Conclusion"
      ],
      "metadata": {
        "id": "22S1RsqH4z5l"
      }
    },
    {
      "cell_type": "markdown",
      "source": [
        "Once the model has been developed using an algorithm that gives an acceptable accuracy, this model can be called using to any chatbot UI framework"
      ],
      "metadata": {
        "id": "UGjHSeL241_t"
      }
    },
    {
      "cell_type": "code",
      "source": [
        "!pip freeze"
      ],
      "metadata": {
        "colab": {
          "base_uri": "https://localhost:8080/"
        },
        "id": "RyJAvzGq4xmA",
        "outputId": "782d10bf-5e98-4ce8-bfb9-94abb6d87f53"
      },
      "execution_count": 67,
      "outputs": [
        {
          "output_type": "stream",
          "name": "stdout",
          "text": [
            "absl-py==1.4.0\n",
            "accelerate==1.2.1\n",
            "aiohappyeyeballs==2.4.4\n",
            "aiohttp==3.11.11\n",
            "aiosignal==1.3.2\n",
            "alabaster==1.0.0\n",
            "albucore==0.0.19\n",
            "albumentations==1.4.20\n",
            "altair==5.5.0\n",
            "annotated-types==0.7.0\n",
            "anyio==3.7.1\n",
            "argon2-cffi==23.1.0\n",
            "argon2-cffi-bindings==21.2.0\n",
            "array_record==0.6.0\n",
            "arviz==0.20.0\n",
            "astropy==6.1.7\n",
            "astropy-iers-data==0.2025.1.6.0.33.42\n",
            "astunparse==1.6.3\n",
            "atpublic==4.1.0\n",
            "attrs==24.3.0\n",
            "audioread==3.0.1\n",
            "autograd==1.7.0\n",
            "babel==2.16.0\n",
            "backcall==0.2.0\n",
            "beautifulsoup4==4.12.3\n",
            "bigframes==1.31.0\n",
            "bigquery-magics==0.5.0\n",
            "bleach==6.2.0\n",
            "blinker==1.9.0\n",
            "blis==0.7.11\n",
            "blosc2==3.0.0\n",
            "bokeh==3.6.2\n",
            "Bottleneck==1.4.2\n",
            "bqplot==0.12.44\n",
            "branca==0.8.1\n",
            "CacheControl==0.14.2\n",
            "cachetools==5.5.0\n",
            "catalogue==2.0.10\n",
            "certifi==2024.12.14\n",
            "cffi==1.17.1\n",
            "chardet==5.2.0\n",
            "charset-normalizer==3.4.1\n",
            "chex==0.1.88\n",
            "clarabel==0.9.0\n",
            "click==8.1.8\n",
            "cloudpathlib==0.20.0\n",
            "cloudpickle==3.1.0\n",
            "cmake==3.31.2\n",
            "cmdstanpy==1.2.5\n",
            "colorcet==3.1.0\n",
            "colorlover==0.3.0\n",
            "colour==0.1.5\n",
            "community==1.0.0b1\n",
            "confection==0.1.5\n",
            "cons==0.4.6\n",
            "contourpy==1.3.1\n",
            "cryptography==43.0.3\n",
            "cuda-python==12.2.1\n",
            "cudf-cu12 @ https://pypi.nvidia.com/cudf-cu12/cudf_cu12-24.10.1-cp311-cp311-manylinux_2_24_x86_64.manylinux_2_28_x86_64.whl\n",
            "cufflinks==0.17.3\n",
            "cupy-cuda12x==12.2.0\n",
            "cvxopt==1.3.2\n",
            "cvxpy==1.6.0\n",
            "cycler==0.12.1\n",
            "cymem==2.0.10\n",
            "Cython==3.0.11\n",
            "dask==2024.10.0\n",
            "datascience==0.17.6\n",
            "db-dtypes==1.3.1\n",
            "dbus-python==1.2.18\n",
            "debugpy==1.8.0\n",
            "decorator==4.4.2\n",
            "defusedxml==0.7.1\n",
            "Deprecated==1.2.15\n",
            "diffusers==0.32.1\n",
            "distro==1.9.0\n",
            "dlib==19.24.2\n",
            "dm-tree==0.1.8\n",
            "docker-pycreds==0.4.0\n",
            "docstring_parser==0.16\n",
            "docutils==0.21.2\n",
            "dopamine_rl==4.1.0\n",
            "duckdb==1.1.3\n",
            "earthengine-api==1.4.4\n",
            "easydict==1.13\n",
            "editdistance==0.8.1\n",
            "eerepr==0.0.4\n",
            "einops==0.8.0\n",
            "en-core-web-sm @ https://github.com/explosion/spacy-models/releases/download/en_core_web_sm-3.7.1/en_core_web_sm-3.7.1-py3-none-any.whl#sha256=86cc141f63942d4b2c5fcee06630fd6f904788d2f0ab005cce45aadb8fb73889\n",
            "entrypoints==0.4\n",
            "et_xmlfile==2.0.0\n",
            "etils==1.11.0\n",
            "etuples==0.3.9\n",
            "eval_type_backport==0.2.2\n",
            "fastai==2.7.18\n",
            "fastcore==1.7.28\n",
            "fastdownload==0.0.7\n",
            "fastjsonschema==2.21.1\n",
            "fastprogress==1.0.3\n",
            "fastrlock==0.8.3\n",
            "filelock==3.16.1\n",
            "firebase-admin==6.6.0\n",
            "Flask==3.1.0\n",
            "flatbuffers==24.12.23\n",
            "flax==0.10.2\n",
            "folium==0.19.4\n",
            "fonttools==4.55.3\n",
            "frozendict==2.4.6\n",
            "frozenlist==1.5.0\n",
            "fsspec==2024.10.0\n",
            "future==1.0.0\n",
            "gast==0.6.0\n",
            "gcsfs==2024.10.0\n",
            "GDAL==3.6.4\n",
            "gdown==5.2.0\n",
            "geemap==0.35.1\n",
            "gensim==4.3.3\n",
            "geocoder==1.38.1\n",
            "geographiclib==2.0\n",
            "geopandas==1.0.1\n",
            "geopy==2.4.1\n",
            "gin-config==0.5.0\n",
            "gitdb==4.0.12\n",
            "GitPython==3.1.44\n",
            "glob2==0.7\n",
            "google==2.0.3\n",
            "google-ai-generativelanguage==0.6.10\n",
            "google-api-core==2.19.2\n",
            "google-api-python-client==2.155.0\n",
            "google-auth==2.27.0\n",
            "google-auth-httplib2==0.2.0\n",
            "google-auth-oauthlib==1.2.1\n",
            "google-cloud-aiplatform==1.74.0\n",
            "google-cloud-bigquery==3.25.0\n",
            "google-cloud-bigquery-connection==1.17.0\n",
            "google-cloud-bigquery-storage==2.27.0\n",
            "google-cloud-bigtable==2.28.0\n",
            "google-cloud-core==2.4.1\n",
            "google-cloud-datastore==2.20.2\n",
            "google-cloud-firestore==2.19.0\n",
            "google-cloud-functions==1.19.0\n",
            "google-cloud-iam==2.17.0\n",
            "google-cloud-language==2.16.0\n",
            "google-cloud-pubsub==2.27.2\n",
            "google-cloud-resource-manager==1.14.0\n",
            "google-cloud-storage==2.19.0\n",
            "google-cloud-translate==3.19.0\n",
            "google-colab @ file:///colabtools/dist/google_colab-1.0.0.tar.gz\n",
            "google-crc32c==1.6.0\n",
            "google-genai==0.3.0\n",
            "google-generativeai==0.8.3\n",
            "google-pasta==0.2.0\n",
            "google-resumable-media==2.7.2\n",
            "googleapis-common-protos==1.66.0\n",
            "googledrivedownloader==0.4\n",
            "graphviz==0.20.3\n",
            "greenlet==3.1.1\n",
            "grpc-google-iam-v1==0.14.0\n",
            "grpcio==1.69.0\n",
            "grpcio-status==1.62.3\n",
            "gspread==6.1.4\n",
            "gspread-dataframe==4.0.0\n",
            "gym==0.25.2\n",
            "gym-notices==0.0.8\n",
            "h11==0.14.0\n",
            "h5netcdf==1.4.1\n",
            "h5py==3.12.1\n",
            "holidays==0.64\n",
            "holoviews==1.20.0\n",
            "html5lib==1.1\n",
            "httpcore==1.0.7\n",
            "httpimport==1.4.0\n",
            "httplib2==0.22.0\n",
            "httpx==0.28.1\n",
            "huggingface-hub==0.27.1\n",
            "humanize==4.11.0\n",
            "hyperopt==0.2.7\n",
            "ibis-framework==9.2.0\n",
            "idna==3.10\n",
            "imageio==2.36.1\n",
            "imageio-ffmpeg==0.5.1\n",
            "imagesize==1.4.1\n",
            "imbalanced-learn==0.13.0\n",
            "imgaug==0.4.0\n",
            "immutabledict==4.2.1\n",
            "importlib_metadata==8.5.0\n",
            "importlib_resources==6.5.2\n",
            "imutils==0.5.4\n",
            "inflect==7.5.0\n",
            "iniconfig==2.0.0\n",
            "intel-cmplr-lib-ur==2025.0.4\n",
            "intel-openmp==2025.0.4\n",
            "ipyevents==2.0.2\n",
            "ipyfilechooser==0.6.0\n",
            "ipykernel==5.5.6\n",
            "ipyleaflet==0.19.2\n",
            "ipyparallel==8.8.0\n",
            "ipython==7.34.0\n",
            "ipython-genutils==0.2.0\n",
            "ipython-sql==0.5.0\n",
            "ipytree==0.2.2\n",
            "ipywidgets==7.7.1\n",
            "itsdangerous==2.2.0\n",
            "jax==0.4.33\n",
            "jax-cuda12-pjrt==0.4.33\n",
            "jax-cuda12-plugin==0.4.33\n",
            "jaxlib==0.4.33\n",
            "jeepney==0.7.1\n",
            "jellyfish==1.1.0\n",
            "jieba==0.42.1\n",
            "Jinja2==3.1.5\n",
            "jiter==0.8.2\n",
            "joblib==1.4.2\n",
            "jsonpatch==1.33\n",
            "jsonpickle==4.0.1\n",
            "jsonpointer==3.0.0\n",
            "jsonschema==4.23.0\n",
            "jsonschema-specifications==2024.10.1\n",
            "jupyter-client==6.1.12\n",
            "jupyter-console==6.1.0\n",
            "jupyter-leaflet==0.19.2\n",
            "jupyter-server==1.24.0\n",
            "jupyter_core==5.7.2\n",
            "jupyterlab_pygments==0.3.0\n",
            "jupyterlab_widgets==3.0.13\n",
            "kaggle==1.6.17\n",
            "kagglehub==0.3.6\n",
            "keras==3.5.0\n",
            "keyring==23.5.0\n",
            "kiwisolver==1.4.8\n",
            "langchain==0.3.14\n",
            "langchain-core==0.3.29\n",
            "langchain-text-splitters==0.3.5\n",
            "langcodes==3.5.0\n",
            "langsmith==0.2.10\n",
            "language_data==1.3.0\n",
            "launchpadlib==1.10.16\n",
            "lazr.restfulclient==0.14.4\n",
            "lazr.uri==1.0.6\n",
            "lazy_loader==0.4\n",
            "libclang==18.1.1\n",
            "libcudf-cu12 @ https://pypi.nvidia.com/libcudf-cu12/libcudf_cu12-24.10.1-py3-none-manylinux_2_28_x86_64.whl\n",
            "librosa==0.10.2.post1\n",
            "lightgbm==4.5.0\n",
            "linkify-it-py==2.0.3\n",
            "llvmlite==0.43.0\n",
            "locket==1.0.0\n",
            "logical-unification==0.4.6\n",
            "lxml==5.3.0\n",
            "marisa-trie==1.2.1\n",
            "Markdown==3.7\n",
            "markdown-it-py==3.0.0\n",
            "MarkupSafe==3.0.2\n",
            "matplotlib==3.10.0\n",
            "matplotlib-inline==0.1.7\n",
            "matplotlib-venn==1.1.1\n",
            "mdit-py-plugins==0.4.2\n",
            "mdurl==0.1.2\n",
            "miniKanren==1.0.3\n",
            "missingno==0.5.2\n",
            "mistune==3.1.0\n",
            "mizani==0.13.1\n",
            "mkl==2025.0.1\n",
            "ml-dtypes==0.4.1\n",
            "mlxtend==0.23.3\n",
            "more-itertools==10.5.0\n",
            "moviepy==1.0.3\n",
            "mpmath==1.3.0\n",
            "msgpack==1.1.0\n",
            "multidict==6.1.0\n",
            "multipledispatch==1.0.0\n",
            "multitasking==0.0.11\n",
            "murmurhash==1.0.11\n",
            "music21==9.3.0\n",
            "namex==0.0.8\n",
            "narwhals==1.21.1\n",
            "natsort==8.4.0\n",
            "nbclassic==1.1.0\n",
            "nbclient==0.10.2\n",
            "nbconvert==7.16.5\n",
            "nbformat==5.10.4\n",
            "ndindex==1.9.2\n",
            "nest-asyncio==1.6.0\n",
            "networkx==3.4.2\n",
            "nibabel==5.3.2\n",
            "nltk==3.9.1\n",
            "notebook==6.5.5\n",
            "notebook_shim==0.2.4\n",
            "numba==0.60.0\n",
            "numexpr==2.10.2\n",
            "numpy==1.26.4\n",
            "nvidia-cublas-cu12==12.1.3.1\n",
            "nvidia-cuda-cupti-cu12==12.1.105\n",
            "nvidia-cuda-nvcc-cu12==12.6.85\n",
            "nvidia-cuda-nvrtc-cu12==12.1.105\n",
            "nvidia-cuda-runtime-cu12==12.1.105\n",
            "nvidia-cudnn-cu12==9.1.0.70\n",
            "nvidia-cufft-cu12==11.0.2.54\n",
            "nvidia-curand-cu12==10.3.2.106\n",
            "nvidia-cusolver-cu12==11.4.5.107\n",
            "nvidia-cusparse-cu12==12.1.0.106\n",
            "nvidia-nccl-cu12==2.21.5\n",
            "nvidia-nvjitlink-cu12==12.6.85\n",
            "nvidia-nvtx-cu12==12.1.105\n",
            "nvtx==0.2.10\n",
            "nx-cugraph-cu12 @ https://pypi.nvidia.com/nx-cugraph-cu12/nx_cugraph_cu12-24.10.0-py3-none-any.whl\n",
            "oauth2client==4.1.3\n",
            "oauthlib==3.2.2\n",
            "openai==1.59.6\n",
            "opencv-contrib-python==4.10.0.84\n",
            "opencv-python==4.10.0.84\n",
            "opencv-python-headless==4.10.0.84\n",
            "openpyxl==3.1.5\n",
            "opentelemetry-api==1.29.0\n",
            "opentelemetry-sdk==1.29.0\n",
            "opentelemetry-semantic-conventions==0.50b0\n",
            "opt_einsum==3.4.0\n",
            "optax==0.2.4\n",
            "optree==0.13.1\n",
            "orbax-checkpoint==0.6.4\n",
            "orjson==3.10.14\n",
            "osqp==0.6.7.post3\n",
            "packaging==24.2\n",
            "pandas==2.2.2\n",
            "pandas-datareader==0.10.0\n",
            "pandas-gbq==0.26.1\n",
            "pandas-stubs==2.2.2.240909\n",
            "pandocfilters==1.5.1\n",
            "panel==1.5.5\n",
            "param==2.2.0\n",
            "parso==0.8.4\n",
            "parsy==2.1\n",
            "partd==1.4.2\n",
            "pathlib==1.0.1\n",
            "patsy==1.0.1\n",
            "peewee==3.17.8\n",
            "peft==0.14.0\n",
            "pexpect==4.9.0\n",
            "pickleshare==0.7.5\n",
            "pillow==11.1.0\n",
            "platformdirs==4.3.6\n",
            "plotly==5.24.1\n",
            "plotnine==0.14.5\n",
            "pluggy==1.5.0\n",
            "ply==3.11\n",
            "polars==1.9.0\n",
            "pooch==1.8.2\n",
            "portpicker==1.5.2\n",
            "preshed==3.0.9\n",
            "prettytable==3.12.0\n",
            "proglog==0.1.10\n",
            "progressbar2==4.5.0\n",
            "prometheus_client==0.21.1\n",
            "promise==2.3\n",
            "prompt_toolkit==3.0.48\n",
            "propcache==0.2.1\n",
            "prophet==1.1.6\n",
            "proto-plus==1.25.0\n",
            "protobuf==4.25.5\n",
            "psutil==5.9.5\n",
            "psycopg2==2.9.10\n",
            "ptyprocess==0.7.0\n",
            "py-cpuinfo==9.0.0\n",
            "py4j==0.10.9.7\n",
            "pyarrow==17.0.0\n",
            "pyasn1==0.6.1\n",
            "pyasn1_modules==0.4.1\n",
            "pycocotools==2.0.8\n",
            "pycparser==2.22\n",
            "pydantic==2.10.5\n",
            "pydantic_core==2.27.2\n",
            "pydata-google-auth==1.9.0\n",
            "pydot==3.0.4\n",
            "pydotplus==2.0.2\n",
            "PyDrive==1.3.1\n",
            "PyDrive2==1.21.3\n",
            "pyerfa==2.0.1.5\n",
            "pygame==2.6.1\n",
            "pygit2==1.16.0\n",
            "Pygments==2.18.0\n",
            "PyGObject==3.42.1\n",
            "PyJWT==2.10.1\n",
            "pylibcudf-cu12 @ https://pypi.nvidia.com/pylibcudf-cu12/pylibcudf_cu12-24.10.1-cp311-cp311-manylinux_2_24_x86_64.manylinux_2_28_x86_64.whl\n",
            "pylibcugraph-cu12==24.10.0\n",
            "pylibraft-cu12==24.10.0\n",
            "pymc==5.19.1\n",
            "pymystem3==0.2.0\n",
            "pynvjitlink-cu12==0.4.0\n",
            "pyogrio==0.10.0\n",
            "Pyomo==6.8.2\n",
            "PyOpenGL==3.1.7\n",
            "pyOpenSSL==24.2.1\n",
            "pyparsing==3.2.1\n",
            "pyperclip==1.9.0\n",
            "pyproj==3.7.0\n",
            "pyshp==2.3.1\n",
            "PySocks==1.7.1\n",
            "pyspark==3.5.4\n",
            "pytensor==2.26.4\n",
            "pytest==8.3.4\n",
            "python-apt==0.0.0\n",
            "python-box==7.3.0\n",
            "python-dateutil==2.8.2\n",
            "python-louvain==0.16\n",
            "python-slugify==8.0.4\n",
            "python-utils==3.9.1\n",
            "pytz==2024.2\n",
            "pyviz_comms==3.0.3\n",
            "PyYAML==6.0.2\n",
            "pyzmq==24.0.1\n",
            "qdldl==0.1.7.post5\n",
            "ratelim==0.1.6\n",
            "referencing==0.35.1\n",
            "regex==2024.11.6\n",
            "requests==2.32.3\n",
            "requests-oauthlib==1.3.1\n",
            "requests-toolbelt==1.0.0\n",
            "requirements-parser==0.9.0\n",
            "rich==13.9.4\n",
            "rmm-cu12==24.10.0\n",
            "rpds-py==0.22.3\n",
            "rpy2==3.4.2\n",
            "rsa==4.9\n",
            "safetensors==0.5.2\n",
            "scikit-image==0.25.0\n",
            "scikit-learn==1.6.0\n",
            "scipy==1.13.1\n",
            "scooby==0.10.0\n",
            "scs==3.2.7.post2\n",
            "seaborn==0.13.2\n",
            "SecretStorage==3.3.1\n",
            "Send2Trash==1.8.3\n",
            "sentence-transformers==3.3.1\n",
            "sentencepiece==0.2.0\n",
            "sentry-sdk==2.19.2\n",
            "setproctitle==1.3.4\n",
            "shap==0.46.0\n",
            "shapely==2.0.6\n",
            "shellingham==1.5.4\n",
            "simple-parsing==0.1.6\n",
            "six==1.17.0\n",
            "sklearn-compat==0.1.3\n",
            "sklearn-pandas==2.2.0\n",
            "slicer==0.0.8\n",
            "smart-open==7.1.0\n",
            "smmap==5.0.2\n",
            "sniffio==1.3.1\n",
            "snowballstemmer==2.2.0\n",
            "soundfile==0.13.0\n",
            "soupsieve==2.6\n",
            "soxr==0.5.0.post1\n",
            "spacy==3.7.5\n",
            "spacy-legacy==3.0.12\n",
            "spacy-loggers==1.0.5\n",
            "Sphinx==8.1.3\n",
            "sphinxcontrib-applehelp==2.0.0\n",
            "sphinxcontrib-devhelp==2.0.0\n",
            "sphinxcontrib-htmlhelp==2.1.0\n",
            "sphinxcontrib-jsmath==1.0.1\n",
            "sphinxcontrib-qthelp==2.0.0\n",
            "sphinxcontrib-serializinghtml==2.0.0\n",
            "SQLAlchemy==2.0.37\n",
            "sqlglot==25.1.0\n",
            "sqlparse==0.5.3\n",
            "srsly==2.5.0\n",
            "stanio==0.5.1\n",
            "statsmodels==0.14.4\n",
            "stringzilla==3.11.3\n",
            "sympy==1.13.1\n",
            "tables==3.10.2\n",
            "tabulate==0.9.0\n",
            "tbb==2022.0.0\n",
            "tcmlib==1.2.0\n",
            "tenacity==9.0.0\n",
            "tensorboard==2.17.1\n",
            "tensorboard-data-server==0.7.2\n",
            "tensorflow==2.17.1\n",
            "tensorflow-datasets==4.9.7\n",
            "tensorflow-hub==0.16.1\n",
            "tensorflow-io-gcs-filesystem==0.37.1\n",
            "tensorflow-metadata==1.16.1\n",
            "tensorflow-probability==0.24.0\n",
            "tensorstore==0.1.71\n",
            "termcolor==2.5.0\n",
            "terminado==0.18.1\n",
            "text-unidecode==1.3\n",
            "textblob==0.17.1\n",
            "tf-slim==1.1.0\n",
            "tf_keras==2.17.0\n",
            "thinc==8.2.5\n",
            "threadpoolctl==3.5.0\n",
            "tifffile==2024.12.12\n",
            "timm==1.0.13\n",
            "tinycss2==1.4.0\n",
            "tokenizers==0.21.0\n",
            "toml==0.10.2\n",
            "toolz==0.12.1\n",
            "torch @ https://download.pytorch.org/whl/cu121/torch-2.5.1%2Bcu121-cp311-cp311-linux_x86_64.whl\n",
            "torchaudio @ https://download.pytorch.org/whl/cu121/torchaudio-2.5.1%2Bcu121-cp311-cp311-linux_x86_64.whl\n",
            "torchsummary==1.5.1\n",
            "torchvision @ https://download.pytorch.org/whl/cu121/torchvision-0.20.1%2Bcu121-cp311-cp311-linux_x86_64.whl\n",
            "tornado==6.3.3\n",
            "tqdm==4.67.1\n",
            "traitlets==5.7.1\n",
            "traittypes==0.2.1\n",
            "transformers==4.47.1\n",
            "triton==3.1.0\n",
            "tweepy==4.14.0\n",
            "typeguard==4.4.1\n",
            "typer==0.15.1\n",
            "types-pytz==2024.2.0.20241221\n",
            "types-setuptools==75.8.0.20250110\n",
            "typing_extensions==4.12.2\n",
            "tzdata==2024.2\n",
            "tzlocal==5.2\n",
            "uc-micro-py==1.0.3\n",
            "umf==0.9.1\n",
            "uritemplate==4.1.1\n",
            "urllib3==2.3.0\n",
            "vega-datasets==0.9.0\n",
            "wadllib==1.3.6\n",
            "wandb==0.19.2\n",
            "wasabi==1.1.3\n",
            "wcwidth==0.2.13\n",
            "weasel==0.4.1\n",
            "webcolors==24.11.1\n",
            "webencodings==0.5.1\n",
            "websocket-client==1.8.0\n",
            "websockets==14.1\n",
            "Werkzeug==3.1.3\n",
            "widgetsnbextension==3.6.10\n",
            "wordcloud==1.9.4\n",
            "wrapt==1.17.0\n",
            "xarray==2025.1.1\n",
            "xarray-einstats==0.8.0\n",
            "xgboost==2.1.3\n",
            "xlrd==2.0.1\n",
            "xyzservices==2024.9.0\n",
            "yarl==1.18.3\n",
            "yellowbrick==1.5\n",
            "yfinance==0.2.51\n",
            "zipp==3.21.0\n"
          ]
        }
      ]
    },
    {
      "cell_type": "code",
      "source": [],
      "metadata": {
        "id": "WpYDRyul44Wu"
      },
      "execution_count": null,
      "outputs": []
    }
  ]
}